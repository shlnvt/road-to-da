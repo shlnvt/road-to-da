{
 "cells": [
  {
   "cell_type": "markdown",
   "id": "00b3a622",
   "metadata": {},
   "source": [
    "# Modul 4\n",
    "## Topik 1: Praktek SQL untuk Data Analyst di VS Code\n",
    "### Bagian 0: Persiapan Lingkungan di VS Code"
   ]
  },
  {
   "cell_type": "code",
   "execution_count": 2,
   "id": "941f693e",
   "metadata": {},
   "outputs": [],
   "source": [
    "# Skrip ini hanya perlu dijalakan SATU KALI untuk membuat database.\n",
    "import pandas as pd\n",
    "import sqlite3\n",
    "\n",
    "# Nama file CSV yang sudah bersih\n",
    "NAMA_FILE_CSV = 'C:/Users/ASUS/Documents/Road to DA/(Cleaned)Dataset Mini Project Modul 2.csv'\n",
    "# Nama file database yang akan kita buat\n",
    "NAMA_DATABASE = 'superstore.db'\n",
    "# Nama tabel di ddalam database yang akan kita buat\n",
    "NAMA_TABEL = 'penjualan'"
   ]
  },
  {
   "cell_type": "code",
   "execution_count": 3,
   "id": "03f22d81",
   "metadata": {},
   "outputs": [
    {
     "name": "stdout",
     "output_type": "stream",
     "text": [
      "Berhasil memuat C:/Users/ASUS/Documents/Road to DA/(Cleaned)Dataset Mini Project Modul 2.csv.\n"
     ]
    }
   ],
   "source": [
    "# 1. Baca data dari CSV ke DataFrame Pandas\n",
    "try:\n",
    "    df = pd.read_csv(NAMA_FILE_CSV)\n",
    "    print(f\"Berhasil memuat {NAMA_FILE_CSV}.\")\n",
    "except FileNotFoundError:\n",
    "    print(f\"Error: File '{NAMA_FILE_CSV}' tidak ditemukan. Pastikan file ada di folder yang sama.\")\n",
    "    exit()"
   ]
  },
  {
   "cell_type": "code",
   "execution_count": 4,
   "id": "ca2b78d8",
   "metadata": {},
   "outputs": [
    {
     "name": "stdout",
     "output_type": "stream",
     "text": [
      "Berhasil membuat atau terhubung ke database 'superstore.db'.\n"
     ]
    }
   ],
   "source": [
    "# 2. Buat koneksi ke database SQLite\n",
    "# File superstore.db akan otomatis dibuat jika belum ada\n",
    "conn = sqlite3.connect(NAMA_DATABASE)\n",
    "print(f\"Berhasil membuat atau terhubung ke database '{NAMA_DATABASE}'.\")"
   ]
  },
  {
   "cell_type": "code",
   "execution_count": 5,
   "id": "b31854dc",
   "metadata": {},
   "outputs": [
    {
     "name": "stdout",
     "output_type": "stream",
     "text": [
      "Berhasil menulis data ke tabel 'penjualan'.\n"
     ]
    }
   ],
   "source": [
    "# 3. Tulis DataFrame ke tabel SQLite\n",
    "# if_exists='replace' akan membuat ulang tabel setiap kali skrip dijalankan\n",
    "df.to_sql(NAMA_TABEL, conn, if_exists='replace', index=False)\n",
    "print(f\"Berhasil menulis data ke tabel '{NAMA_TABEL}'.\")"
   ]
  },
  {
   "cell_type": "code",
   "execution_count": 6,
   "id": "43bcc68d",
   "metadata": {},
   "outputs": [
    {
     "name": "stdout",
     "output_type": "stream",
     "text": [
      "Setup data base selesai.\n"
     ]
    }
   ],
   "source": [
    "# 4. Tutup koneksi\n",
    "conn.close()\n",
    "print(\"Setup data base selesai.\")"
   ]
  },
  {
   "cell_type": "markdown",
   "id": "429e3083",
   "metadata": {},
   "source": [
    "### Bagian 1: Menjalankan Query SQL dari Python"
   ]
  },
  {
   "cell_type": "code",
   "execution_count": 7,
   "id": "f282e697",
   "metadata": {},
   "outputs": [],
   "source": [
    "import pandas as pd\n",
    "import sqlite3\n",
    "\n",
    "# Nama file database kita\n",
    "NAMA_DATABASE = 'superstore.db'"
   ]
  },
  {
   "cell_type": "code",
   "execution_count": 8,
   "id": "0042b40b",
   "metadata": {},
   "outputs": [],
   "source": [
    "# 1. Buat koneksi ke database\n",
    "conn = sqlite3.connect(NAMA_DATABASE)"
   ]
  },
  {
   "cell_type": "code",
   "execution_count": 9,
   "id": "610bc451",
   "metadata": {},
   "outputs": [],
   "source": [
    "# 2. Tulis query SQL di sini sebagai sebuah string\n",
    "query = \"\"\"\n",
    "    SELECT * FROM penjualan LIMIT 5;\n",
    "\"\"\""
   ]
  },
  {
   "cell_type": "code",
   "execution_count": 10,
   "id": "67267559",
   "metadata": {},
   "outputs": [
    {
     "name": "stdout",
     "output_type": "stream",
     "text": [
      "--- Hasil Query ---\n",
      "   Row ID        Order ID  Order Date   Ship Date       Ship Mode Customer ID  \\\n",
      "0       1  CA-2017-152156  2017-11-08  11/11/2017    Second Class    CG-12520   \n",
      "1       2  CA-2017-152156  2017-11-08  11/11/2017    Second Class    CG-12520   \n",
      "2       3  CA-2017-138688  2017-06-12  16/06/2017    Second Class    DV-13045   \n",
      "3       4  US-2016-108966  2016-10-11  18/10/2016  Standard Class    SO-20335   \n",
      "4       5  US-2016-108966  2016-10-11  18/10/2016  Standard Class    SO-20335   \n",
      "\n",
      "     Customer Name    Segment        Country             City       State  \\\n",
      "0      Claire Gute   Consumer  United States        Henderson    Kentucky   \n",
      "1      Claire Gute   Consumer  United States        Henderson    Kentucky   \n",
      "2  Darrin Van Huff  Corporate  United States      Los Angeles  California   \n",
      "3   Sean O'Donnell   Consumer  United States  Fort Lauderdale     Florida   \n",
      "4   Sean O'Donnell   Consumer  United States  Fort Lauderdale     Florida   \n",
      "\n",
      "   Postal Code Region       Product ID         Category Sub-Category  \\\n",
      "0      42420.0  South  FUR-BO-10001798        Furniture    Bookcases   \n",
      "1      42420.0  South  FUR-CH-10000454        Furniture       Chairs   \n",
      "2      90036.0   West  OFF-LA-10000240  Office Supplies       Labels   \n",
      "3      33311.0  South  FUR-TA-10000577        Furniture       Tables   \n",
      "4      33311.0  South  OFF-ST-10000760  Office Supplies      Storage   \n",
      "\n",
      "                                        Product Name     Sales  Year  \n",
      "0                  Bush Somerset Collection Bookcase  261.9600  2017  \n",
      "1  Hon Deluxe Fabric Upholstered Stacking Chairs,...  731.9400  2017  \n",
      "2  Self-Adhesive Address Labels for Typewriters b...   14.6200  2017  \n",
      "3      Bretford CR4500 Series Slim Rectangular Table  957.5775  2016  \n",
      "4                     Eldon Fold 'N Roll Cart System   22.3680  2016  \n"
     ]
    }
   ],
   "source": [
    "# 3. Gunakan Pandas untuk menjalankan query dan memuat hasilnya ke DataFrame\n",
    "try:\n",
    "    df_hasil = pd.read_sql_query(query, conn)\n",
    "    print(\"--- Hasil Query ---\")\n",
    "    print(df_hasil)\n",
    "except Exception as e:\n",
    "    print(f\"Terjadi error saat menjalankan query: {e}\")"
   ]
  },
  {
   "cell_type": "code",
   "execution_count": 11,
   "id": "6c46e9c9",
   "metadata": {},
   "outputs": [],
   "source": [
    "# 4. Tutup koneksi\n",
    "conn.close()"
   ]
  },
  {
   "cell_type": "markdown",
   "id": "d596caba",
   "metadata": {},
   "source": [
    "### Bagian 2: Praktek Perintah-Perintah Inti SQL\n",
    "#### a. SELECT, FROM, WHERE"
   ]
  },
  {
   "cell_type": "code",
   "execution_count": 12,
   "id": "3e6c148b",
   "metadata": {},
   "outputs": [
    {
     "name": "stdout",
     "output_type": "stream",
     "text": [
      "--- Hasil Query ---\n",
      "                                           Product Name     Sales\n",
      "0                     Bush Somerset Collection Bookcase  261.9600\n",
      "1     Hon Deluxe Fabric Upholstered Stacking Chairs,...  731.9400\n",
      "2         Bretford CR4500 Series Slim Rectangular Table  957.5775\n",
      "3                        Eldon Fold 'N Roll Cart System   22.3680\n",
      "4                                            Xerox 1967   15.5520\n",
      "...                                                 ...       ...\n",
      "1593                   Tops Wirebound Message Log Books   10.5280\n",
      "1594  Fellowes Advanced Computer Series Surge Protec...   42.3840\n",
      "1595    Cisco IPÂ PhoneÂ 7961G VoIPÂ phoneÂ - Dark gray  135.9500\n",
      "1596  Acco Flexible ACCOHIDE Square Ring Data Binder...   48.8100\n",
      "1597                Global Stack Chair with Arms, Black  149.9000\n",
      "\n",
      "[1598 rows x 2 columns]\n"
     ]
    }
   ],
   "source": [
    "import pandas as pd\n",
    "import sqlite3\n",
    "\n",
    "# Nama file database kita\n",
    "NAMA_DATABASE = 'superstore.db'\n",
    "\n",
    "# 1. Buat koneksi ke database\n",
    "conn = sqlite3.connect(NAMA_DATABASE)\n",
    "\n",
    "# 2. Menampilkan kolom Product Name dan Sales untuk semua penjualan di region 'South'\n",
    "query = \"\"\"\n",
    "    SELECT \"Product Name\", \"Sales\"\n",
    "    FROM penjualan\n",
    "    WHERE \"Region\" = 'South';\n",
    "\"\"\"\n",
    "\n",
    "# 3. Gunakan Pandas untuk menjalankan query dan memuat hasilnya ke DataFrame\n",
    "try:\n",
    "    df_hasil = pd.read_sql_query(query, conn)\n",
    "    print(\"--- Hasil Query ---\")\n",
    "    print(df_hasil)\n",
    "except Exception as e:\n",
    "    print(f\"Terjadi error saat menjalankan query: {e}\")"
   ]
  },
  {
   "cell_type": "markdown",
   "id": "40d3e06e",
   "metadata": {},
   "source": [
    "#### b. Agregasi: GROUP BY, SUM, COUNT"
   ]
  },
  {
   "cell_type": "code",
   "execution_count": 13,
   "id": "f8f1df77",
   "metadata": {},
   "outputs": [
    {
     "name": "stdout",
     "output_type": "stream",
     "text": [
      "--- Hasil Query ---\n",
      "          Category   TotalSales\n",
      "0        Furniture  723538.4757\n",
      "1  Office Supplies  703212.8240\n",
      "2       Technology  825856.1130\n"
     ]
    }
   ],
   "source": [
    "import pandas as pd\n",
    "import sqlite3\n",
    "\n",
    "# Nama file database kita\n",
    "NAMA_DATABASE = 'superstore.db'\n",
    "\n",
    "# 1. Buat koneksi ke database\n",
    "conn = sqlite3.connect(NAMA_DATABASE)\n",
    "\n",
    "# 2. Menghitung total penjualan (Sales) untuk setiap Category.\n",
    "query = \"\"\"\n",
    "    SELECT \n",
    "        \"Category\", \n",
    "        SUM(\"Sales\") AS \"TotalSales\"\n",
    "    FROM penjualan\n",
    "    GROUP BY \"Category\";\n",
    "\"\"\"\n",
    "\n",
    "# 3. Gunakan Pandas untuk menjalankan query dan memuat hasilnya ke DataFrame\n",
    "try:\n",
    "    df_hasil = pd.read_sql_query(query, conn)\n",
    "    print(\"--- Hasil Query ---\")\n",
    "    print(df_hasil)\n",
    "except Exception as e:\n",
    "    print(f\"Terjadi error saat menjalankan query: {e}\")"
   ]
  },
  {
   "cell_type": "markdown",
   "id": "7e1cd0e8",
   "metadata": {},
   "source": [
    "#### c. Pengurutan dan Pembatasan: ORDER BY, LIMIT"
   ]
  },
  {
   "cell_type": "code",
   "execution_count": 14,
   "id": "3f784510",
   "metadata": {},
   "outputs": [
    {
     "name": "stdout",
     "output_type": "stream",
     "text": [
      "--- Hasil Query ---\n",
      "                                        Product Name      Sales\n",
      "0  Cisco TelePresence System EX90 Videoconferenci...  22638.480\n",
      "1              Canon imageCLASS 2200 Advanced Copier  17499.950\n",
      "2              Canon imageCLASS 2200 Advanced Copier  13999.960\n",
      "3              Canon imageCLASS 2200 Advanced Copier  11199.968\n",
      "4              Canon imageCLASS 2200 Advanced Copier  10499.970\n"
     ]
    }
   ],
   "source": [
    "import pandas as pd\n",
    "import sqlite3\n",
    "\n",
    "# Nama file database kita\n",
    "NAMA_DATABASE = 'superstore.db'\n",
    "\n",
    "# 1. Buat koneksi ke database\n",
    "conn = sqlite3.connect(NAMA_DATABASE)\n",
    "\n",
    "# 2. Mencari 5 produk dengan penjualan tertinggi\n",
    "query = \"\"\"\n",
    "    SELECT \"Product Name\", \"Sales\"\n",
    "    FROM penjualan\n",
    "    ORDER BY \"Sales\" DESC\n",
    "    LIMIT 5;\n",
    "\"\"\"\n",
    "\n",
    "# 3. Gunakan Pandas untuk menjalankan query dan memuat hasilnya ke DataFrame\n",
    "try:\n",
    "    df_hasil = pd.read_sql_query(query, conn)\n",
    "    print(\"--- Hasil Query ---\")\n",
    "    print(df_hasil)\n",
    "except Exception as e:\n",
    "    print(f\"Terjadi error saat menjalankan query: {e}\")"
   ]
  },
  {
   "cell_type": "markdown",
   "id": "a6afaee2",
   "metadata": {},
   "source": [
    "## Topik 2: Statistik Deskriptif & Inferensial\n",
    "### 1. Statistik Deskriptif: Meringkas dan Menggambarkan Data\n",
    "Tujuan dari statistik deskriptif adalah untuk meringkas dan menyajikan data dengan cara yang mudah dipahami. Ini adalah apa yang telah kita lakukan secara tidak langsung dengan fungsi .describe() di Pandas.\n",
    "#### A. Ukuran Pemusatan (Measures of Central Tendency)\n",
    "**Mean (Rata-rata):**\n",
    "- Apa itu? Jumlah total semua nilai dibagi dengan jumlah data.\n",
    "- Kapan digunakan? Baik untuk data yang distribusinya normal (simetris) dan tidak memiliki banyak nilai ekstrem (outlier).\n",
    "- Contoh Kode: df_cleaned['Sales'].mean()\n",
    "\n",
    "**Median (Nilai Tengah):**\n",
    "- Apa itu? Nilai yang berada tepat di tengah setelah semua data diurutkan.\n",
    "- Kapan digunakan? Jauh lebih baik daripada mean jika data Anda memiliki outlier. Dari boxplot penjualan yang kita lihat, ada banyak sekali outlier penjualan yang sangat tinggi. Median akan memberi kita gambaran yang lebih akurat tentang \"transaksi tipikal\" daripada mean yang akan tertarik oleh nilai-nilai ekstrem tersebut.\n",
    "- Contoh Kode: df_cleaned['Sales'].median()\n",
    "\n",
    "**Modus (Nilai Paling Sering Muncul):**\n",
    "- Apa itu? Nilai yang paling sering muncul dalam dataset.\n",
    "- Kapan digunakan? Paling berguna untuk data kategorikal.\n",
    "- Contoh Kode: df_cleaned['Category'].mode() akan memberitahu kita kategori produk yang paling sering ditransaksikan.\n",
    "\n",
    "#### B.Ukuran Sebaran (Measures of Spread)\n",
    "**Range (Jangkauan):**\n",
    "- Apa itu? Perbedaan antara nilai maksimum dan minimum.\n",
    "- Kapan digunakan? Memberikan gambaran cepat tentang sebaran, tetapi sangat sensitif terhadap outlier.\n",
    "- Contoh Kode: df_cleaned['Sales'].max() - df_cleaned['Sales'].min()\n",
    "\n",
    "**Standar Deviasi (Standard Deviation):**\n",
    "- Apa itu? Ukuran rata-rata seberapa jauh setiap titik data dari mean.\n",
    "- Kapan digunakan? Ini adalah ukuran sebaran yang paling umum. Standar deviasi yang tinggi berarti data sangat tersebar dan bervariasi. Standar deviasi yang rendah berarti data cenderung berkumpul di sekitar nilai rata-rata.\n",
    "- Contoh Kode: df_cleaned['Sales'].std()\n",
    "\n",
    "### 2. Statistik Inferensial: Menarik Kesimpulan dan Membuat Prediksi\n",
    "Jika statistik deskriptif adalah tentang masa lalu (apa yang sudah terjadi di data kita), maka statistik inferensial adalah tentang masa depan. Tujuannya adalah untuk membuat kesimpulan atau prediksi tentang populasi yang lebih besar berdasarkan sampel data yang kita miliki.\n",
    "#### A. Konsep Krusial: Korelasi vs Kausalitas\n",
    "Ini adalah salah satu konsep paling penting yang harus dipahami oleh seorang Data Analyst.\n",
    "- Korelasi (Correlation): Menunjukkan adanya hubungan statistik antara dua variabel. Misalnya, saat variabel A naik, variabel B juga cenderung naik (korelasi positif). Heatmap yang kita buat di Modul 3 adalah cara untuk memvisualisasikan korelasi.\n",
    "- Kausalitas (Causation / Sebab-Akibat): Menunjukkan bahwa perubahan pada satu variabel menyebabkan perubahan pada variabel lain.\n",
    "\n",
    "Contoh Klasik: Ada korelasi positif yang kuat antara penjualan es krim dan jumlah serangan hiu.\n",
    "\n",
    "- Interpretasi yang Salah (Kausalitas): \"Makan es krim menyebabkan serangan hiu.\"\n",
    "- Interpretasi yang Benar (Korelasi): \"Kedua hal ini tidak saling menyebabkan. Ada variabel ketiga yang tersembunyi, yaitu cuaca panas. Saat cuaca panas, lebih banyak orang membeli es krim, dan lebih banyak orang berenang di laut, sehingga meningkatkan kemungkinan terjadinya serangan hiu.\"\n",
    "\n",
    "Pelajaran: Sebagai analis, jangan pernah menyimpulkan adanya sebab-akibat hanya dari korelasi. Selalu pertimbangkan faktor-faktor lain yang mungkin berpengaruh.\n",
    "\n",
    "#### B. Pengenalan Hipotesis Testing dan A/B Testing\n",
    "- Apa itu Hipotesis Testing? Sebuah cara untuk menentukan apakah suatu hasil cukup signifikan secara statistik untuk dipercaya, atau apakah itu hanya terjadi karena kebetulan.\n",
    "- A/B Testing (Aplikasi Paling Umum):\n",
    "Bayangkan sebuah perusahaan e-commerce ingin tahu apakah mengubah warna tombol \"Beli Sekarang\" dari biru menjadi hijau akan meningkatkan jumlah klik.\n",
    "1. Hipotesis: \"Mengubah warna tombol menjadi hijau akan meningkatkan click-through rate.\"\n",
    "\n",
    "2. Eksperimen:\n",
    "    - Grup A (Kontrol): Sebagian pengunjung website tetap melihat tombol biru.\n",
    "\n",
    "    - Grup B (Varian): Sebagian pengunjung lainnya melihat tombol hijau.\n",
    "\n",
    "3. Analisis: Setelah periode tertentu, kita mengumpulkan data dari kedua grup. Statistik inferensial akan membantu kita menentukan: \"Apakah peningkatan klik di Grup B cukup signifikan untuk membuktikan hipotesis kita, atau apakah perbedaannya sangat kecil sehingga mungkin hanya kebetulan?\"\n",
    "\n",
    "### Latihan Konseptual:\n",
    "\n",
    "1. Dari boxplot penjualan yang kita lihat di modul sebelumnya, mengapa median mungkin menjadi ukuran pemusatan yang lebih baik daripada mean untuk menggambarkan \"transaksi tipikal\"?\n",
    "2. Jika Anda menemukan korelasi positif yang kuat antara jumlah diskon yang diberikan (Discount) dan jumlah penjualan (Sales), apakah Anda bisa langsung menyimpulkan bahwa diskon yang lebih tinggi menyebabkan penjualan yang lebih tinggi? Variabel lain apa yang mungkin berpengaruh? (Petunjuk: Pikirkan tentang jenis produk atau periode waktu).\n",
    "\n",
    "**JAWAB**\n",
    "1. Median adalah ukuran pemusatan yang lebih baik dalam kasus ini karena distribusi data penjualan kita sangat mencong ke kanan (positively skewed). Ini terlihat jelas dari boxplot di mana ada banyak sekali outliers (pencilan) dengan nilai penjualan yang sangat tinggi.\n",
    "    - Mean (Rata-rata) sangat sensitif terhadap nilai ekstrem. Adanya transaksi bernilai jutaan akan \"menarik\" nilai rata-rata menjadi jauh lebih tinggi, sehingga tidak lagi merepresentasikan nilai transaksi yang paling umum terjadi.\n",
    "    - Median (Nilai Tengah), sebaliknya, bersifat resisten terhadap outliers. Ia hanya melihat nilai yang berada tepat di tengah dari seluruh data yang diurutkan. Oleh karena itu, median memberikan gambaran yang jauh lebih akurat dan realistis tentang \"transaksi tipikal\" atau nilai penjualan yang paling sering dihadapi oleh Superstore.\n",
    "2. Tidak, kita tidak bisa langsung menyimpulkan bahwa diskon yang lebih tinggi menyebabkan penjualan yang lebih tinggi. Prinsip fundamental dalam statistik adalah korelasi tidak membuktikan adanya sebab-akibat (correlation does not imply causation).\n",
    "\n",
    "Meskipun kedua variabel tersebut bergerak bersamaan, ada kemungkinan besar hubungan tersebut dipengaruhi oleh variabel perancu (confounding variables) lain. Beberapa kemungkinan variabel perancu yang perlu diinvestigasi adalah:\n",
    "- Jenis Produk: Bisa jadi diskon besar hanya diberikan pada produk-produk mahal (seperti kategori Technology atau Furniture) yang secara alami sudah memiliki nilai penjualan tinggi. Jadi, bukan diskonnya yang menaikkan penjualan, melainkan harga dasar produknya yang memang sudah tinggi.\n",
    "- Periode Waktu: Diskon besar mungkin hanya ditawarkan pada periode tertentu seperti musim liburan atau event \"cuci gudang\". Pada periode ini, volume penjualan memang sudah diperkirakan akan naik, terlepas dari ada atau tidaknya diskon.\n",
    "- Volume Pembelian: Diskon mungkin diberikan untuk pembelian dalam jumlah besar (borongan) oleh pelanggan korporat, yang secara otomatis akan menghasilkan total penjualan yang tinggi.\n",
    "\n",
    "Oleh karena itu, sebelum menyimpulkan adanya sebab-akibat, seorang analis harus melakukan analisis lebih lanjut untuk mengisolasi dan memahami pengaruh dari variabel-variabel lain ini."
   ]
  },
  {
   "cell_type": "code",
   "execution_count": null,
   "id": "16dbabf5",
   "metadata": {},
   "outputs": [],
   "source": []
  }
 ],
 "metadata": {
  "kernelspec": {
   "display_name": "base",
   "language": "python",
   "name": "python3"
  },
  "language_info": {
   "codemirror_mode": {
    "name": "ipython",
    "version": 3
   },
   "file_extension": ".py",
   "mimetype": "text/x-python",
   "name": "python",
   "nbconvert_exporter": "python",
   "pygments_lexer": "ipython3",
   "version": "3.13.5"
  }
 },
 "nbformat": 4,
 "nbformat_minor": 5
}
