{
 "cells": [
  {
   "cell_type": "markdown",
   "id": "a8ec3afb",
   "metadata": {},
   "source": [
    "# Modul 2 \n",
    "## Topik 1: Komputasi Numerik dengan NumPy"
   ]
  },
  {
   "cell_type": "code",
   "execution_count": 4,
   "id": "852622ac",
   "metadata": {},
   "outputs": [],
   "source": [
    "import numpy as np"
   ]
  },
  {
   "cell_type": "markdown",
   "id": "210907d4",
   "metadata": {},
   "source": [
    "### 1. Apa itu NumPy dan Mengapa Penting?\n",
    "NumPy (singkatan dari Numerical Python) adalah library inti untuk komputasi numerik di Python. Ia menyediakan sebuah objek array multi-dimensi yang sangat efisien dan berbagai fungsi untuk bekerja dengan array tersebut.\n",
    "\n",
    "Bayangkan Anda memiliki daftar berisi satu juta angka. Jika Anda menggunakan List biasa di Python, melakukan operasi matematika (misalnya, mengalikan setiap angka dengan 2) akan berjalan relatif lambat. NumPy melakukan operasi yang sama jauh lebih cepat karena:\n",
    "\n",
    "- Ditulis dalam bahasa C yang sangat cepat.\n",
    "\n",
    "- Menyimpan data di memori secara lebih efisien.\n",
    "\n",
    "- Mendukung operasi matematika pada seluruh array sekaligus (disebut vectorization).\n",
    "\n",
    "Di dunia data, Pandas (yang akan kita pelajari selanjutnya) dibangun di atas NumPy. Jadi, memahami NumPy adalah langkah krusial."
   ]
  },
  {
   "cell_type": "markdown",
   "id": "2d45bb19",
   "metadata": {},
   "source": [
    "### 2. Objek Inti: NumPy Array (ndarray)"
   ]
  },
  {
   "cell_type": "code",
   "execution_count": 5,
   "id": "4ef3b833",
   "metadata": {},
   "outputs": [
    {
     "name": "stdout",
     "output_type": "stream",
     "text": [
      "[1 2 3 4 5]\n",
      "<class 'numpy.ndarray'>\n",
      "[[1 2 3]\n",
      " [4 5 6]]\n"
     ]
    }
   ],
   "source": [
    "# Membuat array 1 dimensi (vektor)\n",
    "list_angka = [1, 2, 3, 4, 5]\n",
    "array_satu_dimensi = np.array(list_angka)\n",
    "\n",
    "print(array_satu_dimensi)\n",
    "print(type(array_satu_dimensi)) # Output: <class 'numpy.ndarray'>\n",
    "\n",
    "# Membuat array 2 dimensi (matriks)\n",
    "list_bersarang = [[1, 2, 3], [4, 5, 6]]\n",
    "array_dua_dimensi = np.array(list_bersarang)\n",
    "\n",
    "print(array_dua_dimensi)"
   ]
  },
  {
   "cell_type": "code",
   "execution_count": 6,
   "id": "7e0d1c05",
   "metadata": {},
   "outputs": [
    {
     "name": "stdout",
     "output_type": "stream",
     "text": [
      "2\n",
      "(2, 3)\n",
      "int64\n"
     ]
    }
   ],
   "source": [
    "# Melihat dimensi array\n",
    "print(array_dua_dimensi.ndim) # Output: 2\n",
    "\n",
    "# Melihat bentuk/ukuran array (baris, kolom)\n",
    "print(array_dua_dimensi.shape) # Output: (2, 3) -> 2 baris, 3 kolom\n",
    "\n",
    "# Melihat tipe data elemen di dalam array\n",
    "print(array_dua_dimensi.dtype) # Output: int64 (tergantung sistem)"
   ]
  },
  {
   "cell_type": "markdown",
   "id": "fe467e85",
   "metadata": {},
   "source": [
    "### 3. Operasi Matematika dan Statistika pada Array"
   ]
  },
  {
   "cell_type": "code",
   "execution_count": 7,
   "id": "01989e8c",
   "metadata": {},
   "outputs": [
    {
     "name": "stdout",
     "output_type": "stream",
     "text": [
      "Ditambah 10:  [110 160 210 260]\n",
      "Dikali 2:  [200 300 400 500]\n",
      "Total Pendapatan:  [120 175 230 285]\n"
     ]
    }
   ],
   "source": [
    "data_penjualan = np.array([100, 150, 200, 250])\n",
    "\n",
    "# Operasi dengan skalar (satu angka)\n",
    "print(\"Ditambah 10: \", data_penjualan + 10)\n",
    "print(\"Dikali 2: \", data_penjualan * 2)\n",
    "\n",
    "# Operasi antar dua array (harus memiliki shape yang sama)\n",
    "data_keuntungan = np.array([20, 25, 30, 35])\n",
    "total_pendapatan = data_penjualan + data_keuntungan\n",
    "print(\"Total Pendapatan: \", total_pendapatan)"
   ]
  },
  {
   "cell_type": "code",
   "execution_count": 8,
   "id": "848800f2",
   "metadata": {},
   "outputs": [
    {
     "name": "stdout",
     "output_type": "stream",
     "text": [
      "Nilai rata-rata:  84.28571428571429\n",
      "Nilai tertinggi:  100\n",
      "Nilai terendah:  60\n",
      "Total nilai:  590\n",
      "Standar deviasi:  12.702241486269665\n"
     ]
    }
   ],
   "source": [
    "data_nilai_ujian = np.array([88, 92, 75, 60, 95, 80, 100])\n",
    "\n",
    "print(\"Nilai rata-rata: \", data_nilai_ujian.mean())\n",
    "print(\"Nilai tertinggi: \", data_nilai_ujian.max())\n",
    "print(\"Nilai terendah: \", data_nilai_ujian.min())\n",
    "print(\"Total nilai: \", data_nilai_ujian.sum())\n",
    "print(\"Standar deviasi: \", data_nilai_ujian.std())"
   ]
  },
  {
   "cell_type": "markdown",
   "id": "d14c218a",
   "metadata": {},
   "source": [
    "### 4. Indexing dan Slicing"
   ]
  },
  {
   "cell_type": "code",
   "execution_count": 12,
   "id": "eb45f2e2",
   "metadata": {},
   "outputs": [
    {
     "name": "stdout",
     "output_type": "stream",
     "text": [
      "12\n",
      "[11 12 13]\n",
      "[[1 2 3]\n",
      " [4 5 6]\n",
      " [7 8 9]]\n",
      "Elemen baris 1, kolom 2:  6\n",
      "Baris kedua:  [4 5 6]\n",
      "Kolom ketigaL  [3 6 9]\n",
      "Slice:\n",
      " [[2 3]\n",
      " [5 6]]\n"
     ]
    }
   ],
   "source": [
    "# Array 1 Dimensi\n",
    "arr1d = np.array([10, 11, 12, 13, 14])\n",
    "print(arr1d[2]) # Output: 12\n",
    "print(arr1d[1:4]) # Output: [11 12 13]\n",
    "\n",
    "# Array 2 Dimensi\n",
    "arr2d = np.array([[1, 2, 3], [4, 5, 6], [7, 8, 9]])\n",
    "print(arr2d)\n",
    "\n",
    "# Mengakses satu elemen [baris, kolom]\n",
    "print(\"Elemen baris 1, kolom 2: \", arr2d[1, 2]) # Output: 6\n",
    "\n",
    "# Mengakses satu baris penuh\n",
    "print(\"Baris kedua: \", arr2d[1]) # Output: [4, 5, 6] atau arr2d[1, :]\n",
    "\n",
    "# Mengakses satu kolom penuh\n",
    "print(\"Kolom ketigaL \", arr2d[:, 2]) # Output: [3 6 9]\n",
    "\n",
    "# Slicing (mengambil sebagian matriks)\n",
    "# Ambil 2 baris pertama, dan kolom ke-2 sampai akhir\n",
    "print(\"Slice:\\n\", arr2d[0:2, 1:])"
   ]
  },
  {
   "cell_type": "markdown",
   "id": "d92b5b87",
   "metadata": {},
   "source": [
    "### Latihan\n",
    "\n",
    "1. Buat sebuah NumPy array 2D berukuran 3x3 yang berisi angka dari 1 hingga 9.\n",
    "2. Dari array tersebut, kalikan semua elemennya dengan 10.\n",
    "3. Akses dan cetak elemen yang berada di tengah matriks (angka 5).\n",
    "4. Ambil dan cetak hanya kolom terakhir dari matriks tersebut."
   ]
  },
  {
   "cell_type": "code",
   "execution_count": 19,
   "id": "de9e5bec",
   "metadata": {},
   "outputs": [
    {
     "name": "stdout",
     "output_type": "stream",
     "text": [
      "[[1 2 3]\n",
      " [4 5 6]\n",
      " [7 8 9]]\n",
      "Dikali 10:\n",
      " [[10 20 30]\n",
      " [40 50 60]\n",
      " [70 80 90]]\n",
      "Elemen yang berada di tengah matriks adalah,  5\n",
      "Kolom terakhir dari matriks tersebut adalah: \n",
      " [3 6 9]\n"
     ]
    }
   ],
   "source": [
    "# Membuat array 2d berukuran 3x3\n",
    "matriks = np.array([[1, 2, 3], [4, 5, 6], [7, 8, 9]])\n",
    "print(matriks)\n",
    "\n",
    "# Kalikan semua elemennya dengan 10\n",
    "print(\"Dikali 10:\\n\", matriks * 10)\n",
    "\n",
    "# Akses dan cetak elemen yang berada di tengah matriks (angka 5)\n",
    "print(\"Elemen yang berada di tengah matriks adalah, \", matriks[1, 1])\n",
    "\n",
    "# Akses dan cetak hanya kolom terakhir\n",
    "print(\"Kolom terakhir dari matriks tersebut adalah: \\n\", matriks[:, 2])"
   ]
  },
  {
   "cell_type": "markdown",
   "id": "fface3ff",
   "metadata": {},
   "source": [
    "## Topik 2: Pengenalan Pandas"
   ]
  },
  {
   "cell_type": "code",
   "execution_count": 1,
   "id": "04426e4f",
   "metadata": {},
   "outputs": [],
   "source": [
    "import pandas as pd\n",
    "import numpy as np # Kita juga sering menggunakan NumPy bersamaan dengan Pandas"
   ]
  },
  {
   "cell_type": "markdown",
   "id": "de56800f",
   "metadata": {},
   "source": [
    "### 1. Struktur Data Inti: Series dan DataFrame\n",
    "#### a. Series (1 Dimensi)"
   ]
  },
  {
   "cell_type": "code",
   "execution_count": 2,
   "id": "554d0e34",
   "metadata": {},
   "outputs": [
    {
     "name": "stdout",
     "output_type": "stream",
     "text": [
      "0    80\n",
      "1    95\n",
      "2    77\n",
      "3    65\n",
      "4    92\n",
      "dtype: int64\n"
     ]
    }
   ],
   "source": [
    "# Membuat Series dari sebuah list\n",
    "nilai_mahasiswa = pd.Series([80, 95, 77, 65, 92])\n",
    "print(nilai_mahasiswa)"
   ]
  },
  {
   "cell_type": "markdown",
   "id": "51b3fd6f",
   "metadata": {},
   "source": [
    "#### b. DataFrame (2 Dimensi)"
   ]
  },
  {
   "cell_type": "code",
   "execution_count": 3,
   "id": "0c0c89c6",
   "metadata": {},
   "outputs": [
    {
     "name": "stdout",
     "output_type": "stream",
     "text": [
      "      Produk  Jumlah  Harga Satuan\n",
      "0       Buku      10          5000\n",
      "1     Pensil      25          1000\n",
      "2       Buku       8          5000\n",
      "3  Penghapus      15          1500\n",
      "4     Pensil      30          1000\n"
     ]
    }
   ],
   "source": [
    "# Membuat DataFram dari sebuah dictionary\n",
    "data_penjualan = {\n",
    "    'Produk': ['Buku', 'Pensil', 'Buku', 'Penghapus', 'Pensil'],\n",
    "    'Jumlah': [10, 25, 8, 15, 30],\n",
    "    'Harga Satuan': [5000, 1000, 5000, 1500, 1000]\n",
    "}\n",
    "\n",
    "df = pd.DataFrame(data_penjualan)\n",
    "print(df)"
   ]
  },
  {
   "cell_type": "markdown",
   "id": "234573fe",
   "metadata": {},
   "source": [
    "### 2. Membaca dan Menulis Data dari File\n",
    "#### a. Membaca File CSV(.csv)"
   ]
  },
  {
   "cell_type": "code",
   "execution_count": 4,
   "id": "1f7b3fef",
   "metadata": {},
   "outputs": [],
   "source": [
    "# Anggap kita punya file bernama 'data_transaksi.csv'\n",
    "# df_transaksi = pd.read.csv('data_transaksi.csv)"
   ]
  },
  {
   "cell_type": "markdown",
   "id": "3452df42",
   "metadata": {},
   "source": [
    "#### b. Membaca File Excel (.xlsx)"
   ]
  },
  {
   "cell_type": "code",
   "execution_count": 5,
   "id": "baea1e71",
   "metadata": {},
   "outputs": [],
   "source": [
    "# Membaca sheet pertama dari file 'laporan_bulanan.xlsx'\n",
    "# df_laporan = pd.read_excel('laporan_bulanan.xlsx')"
   ]
  },
  {
   "cell_type": "markdown",
   "id": "ecd97595",
   "metadata": {},
   "source": [
    "#### c. Menulis DataFrame ke File"
   ]
  },
  {
   "cell_type": "code",
   "execution_count": 6,
   "id": "fe4b10e5",
   "metadata": {},
   "outputs": [],
   "source": [
    "# Menyimpan DataFrame 'df' ke file baru bernana 'hasil_analisis.csv'\n",
    "# df.to_csv('hasil_analisis.csv', index=False) # index=False agar index tidak ikut tersimpan"
   ]
  },
  {
   "cell_type": "markdown",
   "id": "7f611039",
   "metadata": {},
   "source": [
    "### 3. Inspeksi Awal Data (First Look)"
   ]
  },
  {
   "cell_type": "code",
   "execution_count": 11,
   "id": "96d2e59b",
   "metadata": {},
   "outputs": [
    {
     "name": "stdout",
     "output_type": "stream",
     "text": [
      "   Produk  Jumlah  Harga Satuan\n",
      "0    Buku      10          5000\n",
      "1  Pensil      25          1000\n",
      "2    Buku       8          5000\n",
      "      Produk  Jumlah  Harga Satuan\n",
      "3  Penghapus      15          1500\n",
      "4     Pensil      30          1000\n",
      "(5, 3)\n",
      "<class 'pandas.core.frame.DataFrame'>\n",
      "RangeIndex: 5 entries, 0 to 4\n",
      "Data columns (total 3 columns):\n",
      " #   Column        Non-Null Count  Dtype \n",
      "---  ------        --------------  ----- \n",
      " 0   Produk        5 non-null      object\n",
      " 1   Jumlah        5 non-null      int64 \n",
      " 2   Harga Satuan  5 non-null      int64 \n",
      "dtypes: int64(2), object(1)\n",
      "memory usage: 252.0+ bytes\n",
      "          Jumlah  Harga Satuan\n",
      "count   5.000000      5.000000\n",
      "mean   17.600000   2700.000000\n",
      "std     9.555103   2109.502311\n",
      "min     8.000000   1000.000000\n",
      "25%    10.000000   1000.000000\n",
      "50%    15.000000   1500.000000\n",
      "75%    25.000000   5000.000000\n",
      "max    30.000000   5000.000000\n"
     ]
    }
   ],
   "source": [
    "# Melihat 3 baris pertama\n",
    "print(df.head(3)) \n",
    "\n",
    "# Melihat 2 baris terakhir\n",
    "print(df.tail(2))\n",
    "\n",
    "# Melihat dimensi DataFrame (jumlah baris, jumlah kolom)\n",
    "print(df.shape) # Output: (5, 3)\n",
    "\n",
    "# Melihat ringkasan teknis DataFrame\n",
    "df.info()\n",
    "\n",
    "# Melihat ringkasan statistik\n",
    "print(df.describe())"
   ]
  },
  {
   "cell_type": "markdown",
   "id": "1078ef53",
   "metadata": {},
   "source": [
    "### Latihan\n",
    "1. Buat sebuah dictionary yang berisi data teman-teman Anda, dengan kolom \"Nama\", \"Usia\", dan \"Kota\".\n",
    "2. Ubah dictionary tersebut menjadi sebuah Pandas DataFrame.\n",
    "3. Gunakan metode .head(), .info(), dan .describe() untuk melakukan inspeksi awal pada DataFrame yang baru Anda buat."
   ]
  },
  {
   "cell_type": "code",
   "execution_count": 13,
   "id": "0b4f1c16",
   "metadata": {},
   "outputs": [
    {
     "name": "stdout",
     "output_type": "stream",
     "text": [
      "     Nama  Usia     Kota\n",
      "0  Miyeon    28    Seoul\n",
      "1  Minnie    27  Bangkok\n",
      "2  Soyeon    26    Seoul\n",
      "3    Yuqi    25  Beijing\n",
      "4  Shuhua    25   Taipei\n",
      "     Nama  Usia     Kota\n",
      "0  Miyeon    28    Seoul\n",
      "1  Minnie    27  Bangkok\n",
      "2  Soyeon    26    Seoul\n",
      "3    Yuqi    25  Beijing\n",
      "4  Shuhua    25   Taipei\n",
      "<class 'pandas.core.frame.DataFrame'>\n",
      "RangeIndex: 5 entries, 0 to 4\n",
      "Data columns (total 3 columns):\n",
      " #   Column  Non-Null Count  Dtype \n",
      "---  ------  --------------  ----- \n",
      " 0   Nama    5 non-null      object\n",
      " 1   Usia    5 non-null      int64 \n",
      " 2   Kota    5 non-null      object\n",
      "dtypes: int64(1), object(2)\n",
      "memory usage: 252.0+ bytes\n",
      "           Usia\n",
      "count   5.00000\n",
      "mean   26.20000\n",
      "std     1.30384\n",
      "min    25.00000\n",
      "25%    25.00000\n",
      "50%    26.00000\n",
      "75%    27.00000\n",
      "max    28.00000\n"
     ]
    }
   ],
   "source": [
    "# 1. Membuat dictionary\n",
    "data = {\n",
    "    'Nama': ['Miyeon', 'Minnie', 'Soyeon', 'Yuqi', 'Shuhua'],\n",
    "    'Usia': [28, 27, 26, 25, 25],\n",
    "    'Kota': ['Seoul', 'Bangkok', 'Seoul', 'Beijing', 'Taipei']\n",
    "}\n",
    "\n",
    "# 2. Mengubah dictionary menjadi Pandas DataFrame\n",
    "df = pd.DataFrame(data)\n",
    "print(df)\n",
    "\n",
    "# 3. Menggunakan metode .head(), .info(), .describe()\n",
    "print(df.head())\n",
    "df.info()\n",
    "print(df.describe())"
   ]
  },
  {
   "cell_type": "markdown",
   "id": "5fa475b2",
   "metadata": {},
   "source": [
    "## Topik 3: Data Wrangling & Cleaning dengan Pandas"
   ]
  },
  {
   "cell_type": "code",
   "execution_count": 2,
   "id": "fe2535b3",
   "metadata": {},
   "outputs": [
    {
     "name": "stdout",
     "output_type": "stream",
     "text": [
      "Data Awal yang Berantakan: \n",
      "    Nama  Usia        Kota        Gaji\n",
      "0   Andi    28     Jakarta   7000000.0\n",
      "1   Budi    35     Bandung   8500000.0\n",
      "2  Citra    28     Jakarta   7200000.0\n",
      "3   Dedi    42    Surabaya  10000000.0\n",
      "4    Eka    35     Bandung         NaN\n",
      "5   Budi    35     Bandung   8500000.0\n",
      "6    NaN    22  Yogyakarta   5000000.0\n"
     ]
    }
   ],
   "source": [
    "import pandas as pd\n",
    "import numpy as np\n",
    "\n",
    "data_karyawan = {\n",
    "    'Nama': ['Andi', 'Budi', 'Citra', 'Dedi', 'Eka', 'Budi', np.nan],\n",
    "    'Usia': [28, 35, 28, 42, 35, 35, 22],\n",
    "    'Kota': ['Jakarta', 'Bandung', 'Jakarta', 'Surabaya', 'Bandung', 'Bandung', 'Yogyakarta'],\n",
    "    'Gaji': [7000000, 8500000, 7200000, 10000000, np.nan, 8500000, 5000000]\n",
    "}\n",
    "\n",
    "df = pd.DataFrame(data_karyawan)\n",
    "print(\"Data Awal yang Berantakan: \")\n",
    "print(df)"
   ]
  },
  {
   "cell_type": "markdown",
   "id": "7a47b687",
   "metadata": {},
   "source": [
    "### 1. Seleksi Data: Memilih Data yang Anda Butuhkan\n",
    "#### a. Memilih Kolom"
   ]
  },
  {
   "cell_type": "code",
   "execution_count": 3,
   "id": "1de44417",
   "metadata": {},
   "outputs": [
    {
     "name": "stdout",
     "output_type": "stream",
     "text": [
      "0     Andi\n",
      "1     Budi\n",
      "2    Citra\n",
      "3     Dedi\n",
      "4      Eka\n",
      "5     Budi\n",
      "6      NaN\n",
      "Name: Nama, dtype: object\n",
      "    Nama        Kota\n",
      "0   Andi     Jakarta\n",
      "1   Budi     Bandung\n",
      "2  Citra     Jakarta\n",
      "3   Dedi    Surabaya\n",
      "4    Eka     Bandung\n",
      "5   Budi     Bandung\n",
      "6    NaN  Yogyakarta\n"
     ]
    }
   ],
   "source": [
    "# Memilih satu kolom (hasilnya adalah Series)\n",
    "print(df['Nama'])\n",
    "\n",
    "# Memilih beberapa kolom (hasilnya adalah DataFrame)\n",
    "print(df[['Nama', 'Kota']])"
   ]
  },
  {
   "cell_type": "markdown",
   "id": "d8e5d25c",
   "metadata": {},
   "source": [
    "#### Memilih Baris dan Kolom dengan .loc dan .iloc\n",
    "- .loc: Seleksi berdasarkan label (nama index dan nama kolom)\n",
    "- .iloc: Seleksi berdasarkan posisi integer (angka urutan baris dan kolom)."
   ]
  },
  {
   "cell_type": "code",
   "execution_count": 7,
   "id": "5e0779a3",
   "metadata": {},
   "outputs": [
    {
     "name": "stdout",
     "output_type": "stream",
     "text": [
      "Nama          Dedi\n",
      "Usia            42\n",
      "Kota      Surabaya\n",
      "Gaji    10000000.0\n",
      "Name: 3, dtype: object\n",
      "    Nama  Usia      Kota\n",
      "1   Budi    35   Bandung\n",
      "2  Citra    28   Jakarta\n",
      "3   Dedi    42  Surabaya\n",
      "Nama        Citra\n",
      "Usia           28\n",
      "Kota      Jakarta\n",
      "Gaji    7200000.0\n",
      "Name: 2, dtype: object\n",
      "   Nama     Kota\n",
      "0  Andi  Jakarta\n",
      "1  Budi  Bandung\n"
     ]
    }
   ],
   "source": [
    "# .loc[baris, kolom]\n",
    "# Memilih baris dengan index 3\n",
    "print(df.loc[3])\n",
    "\n",
    "# Memilih baris index 1 sampai 3, dan kolom 'Nama' sampai 'Kota'\n",
    "print(df.loc[1:3, 'Nama':'Kota'])\n",
    "\n",
    "# .iloc[baris, kolom]\n",
    "# Memilih baris di posisi ke-2 (ingat, dimulai dari 0)\n",
    "print(df.iloc[2])\n",
    "\n",
    "# Memilih baris di posisi 0 dan 1, dan kolom di posisi 0 dan 2\n",
    "print(df.iloc[0:2, [0,2]])"
   ]
  },
  {
   "cell_type": "markdown",
   "id": "ac3297f8",
   "metadata": {},
   "source": [
    "#### c. Conditional Filtering (Penyaringan Berdasarkan Kondisi)"
   ]
  },
  {
   "cell_type": "code",
   "execution_count": 9,
   "id": "6ba1db3f",
   "metadata": {},
   "outputs": [
    {
     "name": "stdout",
     "output_type": "stream",
     "text": [
      "   Nama  Usia      Kota        Gaji\n",
      "1  Budi    35   Bandung   8500000.0\n",
      "3  Dedi    42  Surabaya  10000000.0\n",
      "4   Eka    35   Bandung         NaN\n",
      "5  Budi    35   Bandung   8500000.0\n",
      "   Nama  Usia     Kota       Gaji\n",
      "1  Budi    35  Bandung  8500000.0\n",
      "5  Budi    35  Bandung  8500000.0\n"
     ]
    }
   ],
   "source": [
    "# Memilih semua karyawan yang usianya di atas 30 tahun\n",
    "df_diatas_30 = df[df['Usia'] > 30]\n",
    "print(df_diatas_30)\n",
    "\n",
    "# Menggabungkan dua kondisi: karyawan dari Bandung DAN gajinya di atas 8 juta\n",
    "df_bandung_gaji_tinggi = df[(df['Kota'] == 'Bandung') & (df['Gaji'] > 8000000)]\n",
    "print(df_bandung_gaji_tinggi)"
   ]
  },
  {
   "cell_type": "markdown",
   "id": "4229d2cb",
   "metadata": {},
   "source": [
    "### 2. Menangani Missing Values (Data yang Hilang)"
   ]
  },
  {
   "cell_type": "code",
   "execution_count": 10,
   "id": "37550e8b",
   "metadata": {},
   "outputs": [
    {
     "name": "stdout",
     "output_type": "stream",
     "text": [
      "    Nama   Usia   Kota   Gaji\n",
      "0  False  False  False  False\n",
      "1  False  False  False  False\n",
      "2  False  False  False  False\n",
      "3  False  False  False  False\n",
      "4  False  False  False   True\n",
      "5  False  False  False  False\n",
      "6   True  False  False  False\n",
      "Nama    1\n",
      "Usia    0\n",
      "Kota    0\n",
      "Gaji    1\n",
      "dtype: int64\n"
     ]
    }
   ],
   "source": [
    "# Menghasilkan boolean True/False untuk setiap sel\n",
    "print(df.isnull())\n",
    "\n",
    "# Menghitung jumlah data yang hilang di setiap kolom (paling sering digunakan)\n",
    "print(df.isnull().sum())"
   ]
  },
  {
   "cell_type": "code",
   "execution_count": 11,
   "id": "24489818",
   "metadata": {},
   "outputs": [
    {
     "name": "stdout",
     "output_type": "stream",
     "text": [
      "    Nama  Usia      Kota        Gaji\n",
      "0   Andi    28   Jakarta   7000000.0\n",
      "1   Budi    35   Bandung   8500000.0\n",
      "2  Citra    28   Jakarta   7200000.0\n",
      "3   Dedi    42  Surabaya  10000000.0\n",
      "5   Budi    35   Bandung   8500000.0\n"
     ]
    }
   ],
   "source": [
    "# Menghapus semua baris yang memiliki setidaknya satu data hilang\n",
    "df_bersih = df.dropna()\n",
    "print(df_bersih)"
   ]
  },
  {
   "cell_type": "code",
   "execution_count": 12,
   "id": "0ed8e3f0",
   "metadata": {},
   "outputs": [
    {
     "name": "stdout",
     "output_type": "stream",
     "text": [
      "              Nama  Usia        Kota        Gaji\n",
      "0             Andi    28     Jakarta   7000000.0\n",
      "1             Budi    35     Bandung   8500000.0\n",
      "2            Citra    28     Jakarta   7200000.0\n",
      "3             Dedi    42    Surabaya  10000000.0\n",
      "4              Eka    35     Bandung   7700000.0\n",
      "5             Budi    35     Bandung   8500000.0\n",
      "6  Tidak Diketahui    22  Yogyakarta   5000000.0\n"
     ]
    },
    {
     "name": "stderr",
     "output_type": "stream",
     "text": [
      "C:\\Users\\ASUS\\AppData\\Local\\Temp\\ipykernel_17056\\2527638404.py:3: FutureWarning: A value is trying to be set on a copy of a DataFrame or Series through chained assignment using an inplace method.\n",
      "The behavior will change in pandas 3.0. This inplace method will never work because the intermediate object on which we are setting values always behaves as a copy.\n",
      "\n",
      "For example, when doing 'df[col].method(value, inplace=True)', try using 'df.method({col: value}, inplace=True)' or df[col] = df[col].method(value) instead, to perform the operation inplace on the original object.\n",
      "\n",
      "\n",
      "  df['Gaji'].fillna(rata_rata_gaji, inplace=True) # inplace=True untuk memodifikasi df secara langsung\n"
     ]
    }
   ],
   "source": [
    "# Mengisi Gaji yang hilang dengan nilai rata-rata gaji\n",
    "rata_rata_gaji = df['Gaji'].mean()\n",
    "df['Gaji'].fillna(rata_rata_gaji, inplace=True) # inplace=True untuk memodifikasi df secara langsung\n",
    "\n",
    "# Mengisi Nama yang hilang dengan 'Tidak Diketahui'\n",
    "df['Nama'].fillna('Tidak Diketahui', inplace=True)\n",
    "print(df)"
   ]
  },
  {
   "cell_type": "markdown",
   "id": "e2da0bd2",
   "metadata": {},
   "source": [
    "### 3. Menangani Data Duplikat"
   ]
  },
  {
   "cell_type": "code",
   "execution_count": 13,
   "id": "22bf52cb",
   "metadata": {},
   "outputs": [
    {
     "name": "stdout",
     "output_type": "stream",
     "text": [
      "0    False\n",
      "1    False\n",
      "2    False\n",
      "3    False\n",
      "4    False\n",
      "5     True\n",
      "6    False\n",
      "dtype: bool\n"
     ]
    }
   ],
   "source": [
    "# Menampilkan baris mana saja yang merupakan duplikat\n",
    "print(df.duplicated())"
   ]
  },
  {
   "cell_type": "code",
   "execution_count": 14,
   "id": "a732de32",
   "metadata": {},
   "outputs": [
    {
     "name": "stdout",
     "output_type": "stream",
     "text": [
      "              Nama  Usia        Kota        Gaji\n",
      "0             Andi    28     Jakarta   7000000.0\n",
      "1             Budi    35     Bandung   8500000.0\n",
      "2            Citra    28     Jakarta   7200000.0\n",
      "3             Dedi    42    Surabaya  10000000.0\n",
      "4              Eka    35     Bandung   7700000.0\n",
      "6  Tidak Diketahui    22  Yogyakarta   5000000.0\n"
     ]
    }
   ],
   "source": [
    "# Menghapus baris yang duplikat, mempertahankan yang pertama muncul\n",
    "df_tanpa_duplikat = df.drop_duplicates()\n",
    "print(df_tanpa_duplikat)"
   ]
  },
  {
   "cell_type": "markdown",
   "id": "89bc00c9",
   "metadata": {},
   "source": [
    "### 4. Mengubah Tipe Data Kolom (.astype())"
   ]
  },
  {
   "cell_type": "code",
   "execution_count": 16,
   "id": "f79c5935",
   "metadata": {},
   "outputs": [
    {
     "name": "stdout",
     "output_type": "stream",
     "text": [
      "<class 'pandas.core.frame.DataFrame'>\n",
      "RangeIndex: 7 entries, 0 to 6\n",
      "Data columns (total 4 columns):\n",
      " #   Column  Non-Null Count  Dtype  \n",
      "---  ------  --------------  -----  \n",
      " 0   Nama    7 non-null      object \n",
      " 1   Usia    7 non-null      int64  \n",
      " 2   Kota    7 non-null      object \n",
      " 3   Gaji    7 non-null      float64\n",
      "dtypes: float64(1), int64(1), object(2)\n",
      "memory usage: 356.0+ bytes\n"
     ]
    }
   ],
   "source": [
    "# Cek tipe data awal\n",
    "df.info()\n",
    "\n",
    "# Mengubah tipe data kolom 'Usia' dari float (jika ada) menjadi integer\n",
    "# Ini hanya bisa dilakukan jika tidak ada missing values di kolom tersebut\n",
    "# df['Usia'] = df['Usia'].astype(int)\n",
    "\n",
    "# print(\"\\nTipe data setelah diubah: \")\n",
    "# df.info()"
   ]
  },
  {
   "cell_type": "markdown",
   "id": "fd129f3d",
   "metadata": {},
   "source": [
    "### Latihan\n",
    "1. Gunakan DataFrame data_karyawan yang asli (yang masih berantakan).\n",
    "2. Hapus baris yang duplikat terlebih dahulu.\n",
    "3. Isi Gaji yang hilang dengan nilai median (bukan mean).\n",
    "4. Isi Nama yang hilang dengan teks \"ANONIM\".\n",
    "5. Tampilkan hanya data karyawan yang berasal dari \"Jakarta\"."
   ]
  },
  {
   "cell_type": "code",
   "execution_count": 26,
   "id": "720dd079",
   "metadata": {},
   "outputs": [
    {
     "name": "stdout",
     "output_type": "stream",
     "text": [
      "    Nama  Usia        Kota        Gaji\n",
      "0   Andi    28     Jakarta   7000000.0\n",
      "1   Budi    35     Bandung   8500000.0\n",
      "2  Citra    28     Jakarta   7200000.0\n",
      "3   Dedi    42    Surabaya  10000000.0\n",
      "4    Eka    35     Bandung         NaN\n",
      "5   Budi    35     Bandung   8500000.0\n",
      "6    NaN    22  Yogyakarta   5000000.0\n",
      "    Nama  Usia        Kota        Gaji\n",
      "0   Andi    28     Jakarta   7000000.0\n",
      "1   Budi    35     Bandung   8500000.0\n",
      "2  Citra    28     Jakarta   7200000.0\n",
      "3   Dedi    42    Surabaya  10000000.0\n",
      "4    Eka    35     Bandung         NaN\n",
      "6    NaN    22  Yogyakarta   5000000.0\n",
      "    Nama  Usia        Kota        Gaji\n",
      "0   Andi    28     Jakarta   7000000.0\n",
      "1   Budi    35     Bandung   8500000.0\n",
      "2  Citra    28     Jakarta   7200000.0\n",
      "3   Dedi    42    Surabaya  10000000.0\n",
      "4    Eka    35     Bandung   7200000.0\n",
      "6    NaN    22  Yogyakarta   5000000.0\n",
      "     Nama  Usia        Kota        Gaji\n",
      "0    Andi    28     Jakarta   7000000.0\n",
      "1    Budi    35     Bandung   8500000.0\n",
      "2   Citra    28     Jakarta   7200000.0\n",
      "3    Dedi    42    Surabaya  10000000.0\n",
      "4     Eka    35     Bandung   7200000.0\n",
      "6  ANONIM    22  Yogyakarta   5000000.0\n",
      "    Nama  Usia     Kota       Gaji\n",
      "0   Andi    28  Jakarta  7000000.0\n",
      "2  Citra    28  Jakarta  7200000.0\n"
     ]
    },
    {
     "name": "stderr",
     "output_type": "stream",
     "text": [
      "C:\\Users\\ASUS\\AppData\\Local\\Temp\\ipykernel_17056\\928393219.py:11: FutureWarning: A value is trying to be set on a copy of a DataFrame or Series through chained assignment using an inplace method.\n",
      "The behavior will change in pandas 3.0. This inplace method will never work because the intermediate object on which we are setting values always behaves as a copy.\n",
      "\n",
      "For example, when doing 'df[col].method(value, inplace=True)', try using 'df.method({col: value}, inplace=True)' or df[col] = df[col].method(value) instead, to perform the operation inplace on the original object.\n",
      "\n",
      "\n",
      "  df_tanpa_duplikat['Gaji'].fillna(median_gaji, inplace=True)\n",
      "C:\\Users\\ASUS\\AppData\\Local\\Temp\\ipykernel_17056\\928393219.py:11: SettingWithCopyWarning: \n",
      "A value is trying to be set on a copy of a slice from a DataFrame\n",
      "\n",
      "See the caveats in the documentation: https://pandas.pydata.org/pandas-docs/stable/user_guide/indexing.html#returning-a-view-versus-a-copy\n",
      "  df_tanpa_duplikat['Gaji'].fillna(median_gaji, inplace=True)\n",
      "C:\\Users\\ASUS\\AppData\\Local\\Temp\\ipykernel_17056\\928393219.py:15: FutureWarning: A value is trying to be set on a copy of a DataFrame or Series through chained assignment using an inplace method.\n",
      "The behavior will change in pandas 3.0. This inplace method will never work because the intermediate object on which we are setting values always behaves as a copy.\n",
      "\n",
      "For example, when doing 'df[col].method(value, inplace=True)', try using 'df.method({col: value}, inplace=True)' or df[col] = df[col].method(value) instead, to perform the operation inplace on the original object.\n",
      "\n",
      "\n",
      "  df_tanpa_duplikat['Nama'].fillna('ANONIM', inplace=True)\n",
      "C:\\Users\\ASUS\\AppData\\Local\\Temp\\ipykernel_17056\\928393219.py:15: SettingWithCopyWarning: \n",
      "A value is trying to be set on a copy of a slice from a DataFrame\n",
      "\n",
      "See the caveats in the documentation: https://pandas.pydata.org/pandas-docs/stable/user_guide/indexing.html#returning-a-view-versus-a-copy\n",
      "  df_tanpa_duplikat['Nama'].fillna('ANONIM', inplace=True)\n"
     ]
    }
   ],
   "source": [
    "# Gunakan DataFrame data_karyawan yang asli\n",
    "df = pd.DataFrame(data_karyawan)\n",
    "print(df)\n",
    "\n",
    "# Hapus baris yang duplikat\n",
    "df_tanpa_duplikat = df.drop_duplicates()\n",
    "print(df_tanpa_duplikat)\n",
    "\n",
    "# Isi gaji yang hilang dengan median\n",
    "median_gaji = df_tanpa_duplikat['Gaji'].median()\n",
    "df_tanpa_duplikat['Gaji'].fillna(median_gaji, inplace=True)\n",
    "print(df_tanpa_duplikat)\n",
    "\n",
    "# Isi nama yang hilang dengan ANONIM\n",
    "df_tanpa_duplikat['Nama'].fillna('ANONIM', inplace=True)\n",
    "print(df_tanpa_duplikat)\n",
    "\n",
    "# Karyawan yang berasal dari Jakarta\n",
    "df_jakarta = df_tanpa_duplikat[(df_tanpa_duplikat['Kota'] == 'Jakarta')]\n",
    "print(df_jakarta)"
   ]
  },
  {
   "cell_type": "markdown",
   "id": "0371e5c2",
   "metadata": {},
   "source": [
    "Perbaikan"
   ]
  },
  {
   "cell_type": "code",
   "execution_count": 27,
   "id": "99adab38",
   "metadata": {},
   "outputs": [
    {
     "name": "stdout",
     "output_type": "stream",
     "text": [
      "--- Hasil Akhir (Karyawan dari Jakarta) ---\n",
      "    Nama  Usia     Kota       Gaji\n",
      "0   Andi    28  Jakarta  7000000.0\n",
      "2  Citra    28  Jakarta  7200000.0\n"
     ]
    },
    {
     "name": "stderr",
     "output_type": "stream",
     "text": [
      "C:\\Users\\ASUS\\AppData\\Local\\Temp\\ipykernel_17056\\580630362.py:11: SettingWithCopyWarning: \n",
      "A value is trying to be set on a copy of a slice from a DataFrame.\n",
      "Try using .loc[row_indexer,col_indexer] = value instead\n",
      "\n",
      "See the caveats in the documentation: https://pandas.pydata.org/pandas-docs/stable/user_guide/indexing.html#returning-a-view-versus-a-copy\n",
      "  df_cleaned['Gaji'] = df_cleaned['Gaji'].fillna(median_gaji)\n",
      "C:\\Users\\ASUS\\AppData\\Local\\Temp\\ipykernel_17056\\580630362.py:14: SettingWithCopyWarning: \n",
      "A value is trying to be set on a copy of a slice from a DataFrame.\n",
      "Try using .loc[row_indexer,col_indexer] = value instead\n",
      "\n",
      "See the caveats in the documentation: https://pandas.pydata.org/pandas-docs/stable/user_guide/indexing.html#returning-a-view-versus-a-copy\n",
      "  df_cleaned['Nama'] = df_cleaned['Nama'].fillna('ANONIM')\n"
     ]
    }
   ],
   "source": [
    "# Gunakan DataFrame data_karyawan yang asli\n",
    "df = pd.DataFrame(data_karyawan)\n",
    "\n",
    "# 1. Hapus baris yang duplikat\n",
    "# Kita buat variabel baru agar lebih jelas\n",
    "df_cleaned = df.drop_duplicates()\n",
    "\n",
    "# 2. Isi gaji yang hilang dengan median\n",
    "median_gaji = df_cleaned['Gaji'].median()\n",
    "# Simpan kembali hasilnya, hindari inplace=True\n",
    "df_cleaned['Gaji'] = df_cleaned['Gaji'].fillna(median_gaji)\n",
    "\n",
    "# 3. Isi nama yang hilang dengan ANONIM\n",
    "df_cleaned['Nama'] = df_cleaned['Nama'].fillna('ANONIM')\n",
    "\n",
    "# 4. Tampilkan karyawan yang berasal dari Jakarta\n",
    "df_jakarta = df_cleaned[df_cleaned['Kota'] == 'Jakarta']\n",
    "\n",
    "print(\"--- Hasil Akhir (Karyawan dari Jakarta) ---\")\n",
    "print(df_jakarta)"
   ]
  },
  {
   "cell_type": "markdown",
   "id": "e31fa88c",
   "metadata": {},
   "source": [
    "## Topik 4: Manipulasi Data Tingkat Lanjut dengan Pandas"
   ]
  },
  {
   "cell_type": "code",
   "execution_count": 28,
   "id": "3d28963d",
   "metadata": {},
   "outputs": [
    {
     "name": "stdout",
     "output_type": "stream",
     "text": [
      "Data Penjualan: \n",
      "      Tanggal     Toko     Produk  Jumlah  Pendapatan\n",
      "0  2023-01-01  Jakarta       Buku      10       50000\n",
      "1  2023-01-01  Bandung     Pensil      15        7500\n",
      "2  2023-01-02  Jakarta       Buku       8       40000\n",
      "3  2023-01-02  Bandung  Penghapus      20       10000\n",
      "4  2023-01-03  Jakarta     Pensil      12        6000\n",
      "5  2023-01-03  Bandung       Buku       7       35000\n"
     ]
    }
   ],
   "source": [
    "import pandas as pd\n",
    "data = {\n",
    "    'Tanggal': ['2023-01-01', '2023-01-01', '2023-01-02', '2023-01-02', '2023-01-03', '2023-01-03'],\n",
    "    'Toko': ['Jakarta', 'Bandung', 'Jakarta', 'Bandung', 'Jakarta', 'Bandung'],\n",
    "    'Produk': ['Buku', 'Pensil', 'Buku', 'Penghapus', 'Pensil', 'Buku'],\n",
    "    'Jumlah': [10, 15, 8, 20, 12, 7],\n",
    "    'Pendapatan': [50000, 7500, 40000, 10000, 6000, 35000]\n",
    "}\n",
    "df = pd.DataFrame(data)\n",
    "print(\"Data Penjualan: \")\n",
    "print(df)"
   ]
  },
  {
   "cell_type": "markdown",
   "id": "079d20a0",
   "metadata": {},
   "source": [
    "### 1. Grouping dan Agregasi dengan .groupby()\n",
    "\n",
    "Konsepnya adalah Split-Apply-Combine:\n",
    "1. Split: Memecah DataFrame menjadi beberapa grup berdasarkan kriteria.\n",
    "2. Apply: Menerapkan sebuah fungsi (misalnya sum(), mean(), count()) pada setiap grup.\n",
    "3. Combine: Menggabungkan hasilnya menjadi sebuah DataFrame baru."
   ]
  },
  {
   "cell_type": "code",
   "execution_count": 29,
   "id": "20095b2c",
   "metadata": {},
   "outputs": [
    {
     "name": "stdout",
     "output_type": "stream",
     "text": [
      "Toko\n",
      "Bandung    52500\n",
      "Jakarta    96000\n",
      "Name: Pendapatan, dtype: int64\n"
     ]
    }
   ],
   "source": [
    "# Contoh 1\n",
    "# Mengelompokkan berdasarkan kolom 'Toko', lalu menjumlahkan 'Pendapatan' untuk setiap toko\n",
    "pendapatan_per_toko = df.groupby('Toko')['Pendapatan'].sum()\n",
    "print(pendapatan_per_toko)"
   ]
  },
  {
   "cell_type": "code",
   "execution_count": 30,
   "id": "124f9670",
   "metadata": {},
   "outputs": [
    {
     "name": "stdout",
     "output_type": "stream",
     "text": [
      "Produk\n",
      "Buku          8.333333\n",
      "Penghapus    20.000000\n",
      "Pensil       13.500000\n",
      "Name: Jumlah, dtype: float64\n"
     ]
    }
   ],
   "source": [
    "# Contoh 2\n",
    "# Mengelompokkan berdasarkan 'Produk', lalu menghitung rata-rata 'Jumlah'\n",
    "rata_rata_jumlah_per_produk = df.groupby('Produk')['Jumlah'].mean()\n",
    "print(rata_rata_jumlah_per_produk)"
   ]
  },
  {
   "cell_type": "code",
   "execution_count": 31,
   "id": "5562f31d",
   "metadata": {},
   "outputs": [
    {
     "name": "stdout",
     "output_type": "stream",
     "text": [
      "Toko\n",
      "Bandung    52500\n",
      "Jakarta    96000\n",
      "Name: Pendapatan, dtype: int64\n"
     ]
    }
   ],
   "source": [
    "# Melihat total pendapatan untuk setiap produk di setiap toko\n",
    "pendapatan_produk_toko = df.groupby(['Toko', 'Produk'])['Pendapatan'].sum()\n",
    "print(pendapatan_per_toko)"
   ]
  },
  {
   "cell_type": "markdown",
   "id": "bf578785",
   "metadata": {},
   "source": [
    "### 2. Menggabungkan Beberapa DataFrame\n",
    "#### a. Menggabungkan dengan .merge() (Mirip VLOOKUP atau SQL JOIN)"
   ]
  },
  {
   "cell_type": "code",
   "execution_count": 32,
   "id": "80a9df34",
   "metadata": {},
   "outputs": [
    {
     "name": "stdout",
     "output_type": "stream",
     "text": [
      "      Tanggal     Toko     Produk  Jumlah  Pendapatan Nama Toko Manajer\n",
      "0  2023-01-01  Jakarta       Buku      10       50000   Jakarta    Andi\n",
      "1  2023-01-01  Bandung     Pensil      15        7500   Bandung    Budi\n",
      "2  2023-01-02  Jakarta       Buku       8       40000   Jakarta    Andi\n",
      "3  2023-01-02  Bandung  Penghapus      20       10000   Bandung    Budi\n",
      "4  2023-01-03  Jakarta     Pensil      12        6000   Jakarta    Andi\n",
      "5  2023-01-03  Bandung       Buku       7       35000   Bandung    Budi\n"
     ]
    }
   ],
   "source": [
    "data_toko = {\n",
    "    'Nama Toko': ['Jakarta', 'Bandung', 'Surabaya'],\n",
    "    'Manajer': ['Andi', 'Budi', 'Citra']\n",
    "}\n",
    "df_toko = pd.DataFrame(data_toko)\n",
    "\n",
    "# Menggabungkan df dengan df_toko\n",
    "# Pandas cukup pintar untuk tahu bahwa 'Toko' di df dan 'Nama Toko' di df_toko adalah kunci yang sama\n",
    "df_lengkap = pd.merge(df, df_toko, left_on='Toko', right_on='Nama Toko')\n",
    "print(df_lengkap)"
   ]
  },
  {
   "cell_type": "markdown",
   "id": "f879cff1",
   "metadata": {},
   "source": [
    "#### b. Menumpuk dengan .concat()"
   ]
  },
  {
   "cell_type": "code",
   "execution_count": 33,
   "id": "f939d2a8",
   "metadata": {},
   "outputs": [],
   "source": [
    "# Anggap punya DataFrame lain dengan struktur kolom yang sama\n",
    "# df2 = ...\n",
    "# df_gabungan = pd.concat([df, df2])"
   ]
  },
  {
   "cell_type": "markdown",
   "id": "528c7302",
   "metadata": {},
   "source": [
    "### 3. Membuat Kolom Baru dari Kolom yang Sudah Ada"
   ]
  },
  {
   "cell_type": "code",
   "execution_count": 34,
   "id": "77adcc3e",
   "metadata": {},
   "outputs": [
    {
     "name": "stdout",
     "output_type": "stream",
     "text": [
      "      Tanggal     Toko     Produk  Jumlah  Pendapatan  Harga Satuan\n",
      "0  2023-01-01  Jakarta       Buku      10       50000        5000.0\n",
      "1  2023-01-01  Bandung     Pensil      15        7500         500.0\n",
      "2  2023-01-02  Jakarta       Buku       8       40000        5000.0\n",
      "3  2023-01-02  Bandung  Penghapus      20       10000         500.0\n",
      "4  2023-01-03  Jakarta     Pensil      12        6000         500.0\n",
      "5  2023-01-03  Bandung       Buku       7       35000        5000.0\n"
     ]
    }
   ],
   "source": [
    "# Harga Satuan = Pendapatan / Jumlah\n",
    "df['Harga Satuan'] = df['Pendapatan'] / df['Jumlah']\n",
    "print(df)"
   ]
  },
  {
   "cell_type": "markdown",
   "id": "5b0b11ae",
   "metadata": {},
   "source": [
    "### Dasar-dasar Time Series Analysis"
   ]
  },
  {
   "cell_type": "code",
   "execution_count": 35,
   "id": "c0e07096",
   "metadata": {},
   "outputs": [
    {
     "name": "stdout",
     "output_type": "stream",
     "text": [
      "<class 'pandas.core.frame.DataFrame'>\n",
      "RangeIndex: 6 entries, 0 to 5\n",
      "Data columns (total 6 columns):\n",
      " #   Column        Non-Null Count  Dtype         \n",
      "---  ------        --------------  -----         \n",
      " 0   Tanggal       6 non-null      datetime64[ns]\n",
      " 1   Toko          6 non-null      object        \n",
      " 2   Produk        6 non-null      object        \n",
      " 3   Jumlah        6 non-null      int64         \n",
      " 4   Pendapatan    6 non-null      int64         \n",
      " 5   Harga Satuan  6 non-null      float64       \n",
      "dtypes: datetime64[ns](1), float64(1), int64(2), object(2)\n",
      "memory usage: 420.0+ bytes\n"
     ]
    }
   ],
   "source": [
    "# Mengubah kolom 'Tanggal' dari teks menjadi objek datetime\n",
    "df['Tanggal'] = pd.to_datetime(df['Tanggal'])\n",
    "df.info() # Perhatikan Dtype kolom 'Tanggal' sekarang menjadi datetime64[ns]"
   ]
  },
  {
   "cell_type": "code",
   "execution_count": 36,
   "id": "9ebcffb8",
   "metadata": {},
   "outputs": [
    {
     "name": "stdout",
     "output_type": "stream",
     "text": [
      "     Tanggal     Toko     Produk  Jumlah  Pendapatan  Harga Satuan  Bulan  \\\n",
      "0 2023-01-01  Jakarta       Buku      10       50000        5000.0      1   \n",
      "1 2023-01-01  Bandung     Pensil      15        7500         500.0      1   \n",
      "2 2023-01-02  Jakarta       Buku       8       40000        5000.0      1   \n",
      "3 2023-01-02  Bandung  Penghapus      20       10000         500.0      1   \n",
      "4 2023-01-03  Jakarta     Pensil      12        6000         500.0      1   \n",
      "5 2023-01-03  Bandung       Buku       7       35000        5000.0      1   \n",
      "\n",
      "      Hari  \n",
      "0   Sunday  \n",
      "1   Sunday  \n",
      "2   Monday  \n",
      "3   Monday  \n",
      "4  Tuesday  \n",
      "5  Tuesday  \n"
     ]
    }
   ],
   "source": [
    "# Mengekstrak informasi dari datetime\n",
    "df['Bulan'] = df['Tanggal'].dt.month\n",
    "df['Hari'] = df['Tanggal'].dt.day_name()\n",
    "print(df)"
   ]
  },
  {
   "cell_type": "markdown",
   "id": "6d3dc315",
   "metadata": {},
   "source": [
    "### Latihan\n",
    "1. Gunakan .groupby() untuk mencari total pendapatan untuk setiap bulan.\n",
    "2. Gunakan .groupby() untuk mencari jumlah produk terbanyak yang terjual dalam satu transaksi untuk setiap Toko. (Gunakan agregasi .max()).\n",
    "3. Filter dan tampilkan hanya transaksi yang terjadi pada hari 'Selasa' (Tuesday)."
   ]
  },
  {
   "cell_type": "code",
   "execution_count": 51,
   "id": "7533a44b",
   "metadata": {},
   "outputs": [
    {
     "name": "stdout",
     "output_type": "stream",
     "text": [
      "Bulan\n",
      "1    148500\n",
      "Name: Pendapatan, dtype: int64\n",
      "Toko\n",
      "Bandung    20\n",
      "Jakarta    12\n",
      "Name: Jumlah, dtype: int64\n",
      "     Tanggal     Toko  Produk  Jumlah  Pendapatan  Harga Satuan  Bulan  \\\n",
      "4 2023-01-03  Jakarta  Pensil      12        6000         500.0      1   \n",
      "5 2023-01-03  Bandung    Buku       7       35000        5000.0      1   \n",
      "\n",
      "      Hari  \n",
      "4  Tuesday  \n",
      "5  Tuesday  \n"
     ]
    }
   ],
   "source": [
    "# No. 1\n",
    "pendapatan_per_bulan = df.groupby('Bulan')['Pendapatan'].sum()\n",
    "print(pendapatan_per_bulan)\n",
    "\n",
    "# No. 2\n",
    "produk_terbanyak = df.groupby('Toko')['Jumlah'].max()\n",
    "print(produk_terbanyak)\n",
    "\n",
    "# No. 3\n",
    "df_selasa = df[df['Hari'] == 'Tuesday']\n",
    "print(df_selasa)"
   ]
  },
  {
   "cell_type": "code",
   "execution_count": null,
   "id": "8cd3c8e0",
   "metadata": {},
   "outputs": [],
   "source": []
  }
 ],
 "metadata": {
  "kernelspec": {
   "display_name": "base",
   "language": "python",
   "name": "python3"
  },
  "language_info": {
   "codemirror_mode": {
    "name": "ipython",
    "version": 3
   },
   "file_extension": ".py",
   "mimetype": "text/x-python",
   "name": "python",
   "nbconvert_exporter": "python",
   "pygments_lexer": "ipython3",
   "version": "3.13.5"
  }
 },
 "nbformat": 4,
 "nbformat_minor": 5
}
