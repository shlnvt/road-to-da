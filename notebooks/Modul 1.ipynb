{
 "cells": [
  {
   "cell_type": "markdown",
   "id": "5fbbe15d",
   "metadata": {},
   "source": [
    "# Modul 1\n",
    "## Topik 1: Sintaks Dasar & Tipe Data\n",
    "### 1. Variabel: \"Wadah\" untuk Menyimpan Informasi"
   ]
  },
  {
   "cell_type": "code",
   "execution_count": 1,
   "id": "376593e4",
   "metadata": {},
   "outputs": [
    {
     "name": "stdout",
     "output_type": "stream",
     "text": [
      "Kopi Susu\n",
      "18000\n"
     ]
    }
   ],
   "source": [
    "# Membuat variabel\n",
    "nama_produk = \"Kopi Susu\"\n",
    "harga = 18000\n",
    "jumlah_terjual = 50\n",
    "\n",
    "# Menampilkan isi variabel\n",
    "print(nama_produk)\n",
    "print(harga)"
   ]
  },
  {
   "cell_type": "markdown",
   "id": "145d7452",
   "metadata": {},
   "source": [
    "### 2. Tipe Data Primitif: Jenis-jenis Informasi Dasar\n",
    "#### a. String (str)"
   ]
  },
  {
   "cell_type": "code",
   "execution_count": 2,
   "id": "4b842d82",
   "metadata": {},
   "outputs": [
    {
     "name": "stdout",
     "output_type": "stream",
     "text": [
      "Budi Santoso\n"
     ]
    }
   ],
   "source": [
    "nama_depan = \"Budi\"\n",
    "nama_belakang = 'Santoso'\n",
    "alamat = \"Jalan Merdeka No.17\"\n",
    "\n",
    "# Menggabungkan string (concatenation)\n",
    "nama_lengkap =  nama_depan + \" \" + nama_belakang\n",
    "print(nama_lengkap)\n",
    "\n",
    "# Output: Budi Santoso"
   ]
  },
  {
   "cell_type": "markdown",
   "id": "f698cd88",
   "metadata": {},
   "source": [
    "#### Integer (int)"
   ]
  },
  {
   "cell_type": "code",
   "execution_count": 3,
   "id": "59b3f246",
   "metadata": {},
   "outputs": [
    {
     "name": "stdout",
     "output_type": "stream",
     "text": [
      "25\n"
     ]
    }
   ],
   "source": [
    "umur = 25\n",
    "stok_barang = 100\n",
    "suhu_ruangan = -5\n",
    "\n",
    "print(umur)"
   ]
  },
  {
   "cell_type": "markdown",
   "id": "34706c75",
   "metadata": {},
   "source": [
    "#### c. Float (float)"
   ]
  },
  {
   "cell_type": "code",
   "execution_count": 4,
   "id": "30234029",
   "metadata": {},
   "outputs": [
    {
     "name": "stdout",
     "output_type": "stream",
     "text": [
      "3.87\n"
     ]
    }
   ],
   "source": [
    "tinggi_badan = 175.5\n",
    "berat_badan = 68.2\n",
    "ipk = 3.87\n",
    "\n",
    "print(ipk)"
   ]
  },
  {
   "cell_type": "markdown",
   "id": "275e00f3",
   "metadata": {},
   "source": [
    "#### d. Boolean (bool)"
   ]
  },
  {
   "cell_type": "code",
   "execution_count": 5,
   "id": "5edde369",
   "metadata": {},
   "outputs": [
    {
     "name": "stdout",
     "output_type": "stream",
     "text": [
      "False\n"
     ]
    }
   ],
   "source": [
    "sudah_menikah = False\n",
    "is_active = True\n",
    "lulus_ujian = True\n",
    "\n",
    "print(sudah_menikah)"
   ]
  },
  {
   "cell_type": "markdown",
   "id": "4f408392",
   "metadata": {},
   "source": [
    "Mengecek Tipe Data:"
   ]
  },
  {
   "cell_type": "code",
   "execution_count": 6,
   "id": "5e67df4c",
   "metadata": {},
   "outputs": [
    {
     "name": "stdout",
     "output_type": "stream",
     "text": [
      "<class 'str'>\n",
      "<class 'int'>\n",
      "<class 'float'>\n",
      "<class 'bool'>\n"
     ]
    }
   ],
   "source": [
    "print(type(nama_lengkap)) # Output: <class 'str'>\n",
    "print(type(harga)) # Output: <class 'int'>\n",
    "print(type(ipk)) # Output: <class 'float'>\n",
    "print(type(is_active)) # Output: <class 'bool'>"
   ]
  },
  {
   "cell_type": "markdown",
   "id": "3bcba64c",
   "metadata": {},
   "source": [
    "### 3. Operator: Melakukan Aksi pada Data\n",
    "#### a. Operator Aritmatika"
   ]
  },
  {
   "cell_type": "code",
   "execution_count": 8,
   "id": "6b9a531d",
   "metadata": {},
   "outputs": [
    {
     "name": "stdout",
     "output_type": "stream",
     "text": [
      "13\n",
      "7\n",
      "30\n",
      "3.3333333333333335\n",
      "3\n",
      "1\n",
      "1000\n"
     ]
    }
   ],
   "source": [
    "x = 10\n",
    "y = 3\n",
    "\n",
    "print(x + y) # Penjumlahan -> 13\n",
    "print(x - y) # Pengurangan -> 7\n",
    "print(x * y) # Perkalian -> 30\n",
    "print(x / y) # Pembagian (hasilnya selalu float) -> 3.333...\n",
    "print(x // y) # Pembagian bulat (floor division) -> 3\n",
    "print(x % y) # Modulo (sisa bagi) -> 1\n",
    "print(x ** y) # Pangkat -> 1000"
   ]
  },
  {
   "cell_type": "markdown",
   "id": "7a28b5d2",
   "metadata": {},
   "source": [
    "#### b. Operator Perbandingan"
   ]
  },
  {
   "cell_type": "code",
   "execution_count": 9,
   "id": "71afbb6d",
   "metadata": {},
   "outputs": [
    {
     "name": "stdout",
     "output_type": "stream",
     "text": [
      "False\n",
      "True\n",
      "True\n",
      "False\n",
      "True\n",
      "True\n"
     ]
    }
   ],
   "source": [
    "a = 15\n",
    "b = 20\n",
    "\n",
    "print(a == b) # Sama dengan -> False\n",
    "print(a != b) # Tidak sama dengan -> True\n",
    "print(a < b) # Kurang dari -> True\n",
    "print(a > b) # Lebih dari -> False\n",
    "print(a <= 15) # Kurang dari sama dengan -> True\n",
    "print(b >= 20) # Lebih dari sama dengan -> True"
   ]
  },
  {
   "cell_type": "markdown",
   "id": "71e47ce5",
   "metadata": {},
   "source": [
    "#### c. Operator Logika"
   ]
  },
  {
   "cell_type": "code",
   "execution_count": 10,
   "id": "f0dad49e",
   "metadata": {},
   "outputs": [
    {
     "name": "stdout",
     "output_type": "stream",
     "text": [
      "True\n",
      "True\n",
      "False\n"
     ]
    }
   ],
   "source": [
    "nilai_ujian = 85\n",
    "absensi = 90\n",
    "\n",
    "lulus_nilai = nilai_ujian >= 75 # True\n",
    "lulus_absensi = absensi >= 80 # True\n",
    "\n",
    "# Apakah lulus keduanya?\n",
    "print(lulus_nilai and lulus_absensi) # True and True -> True\n",
    "\n",
    "# Apakah lulus salah satunya?\n",
    "print(lulus_nilai or lulus_absensi) # True or True -> True\n",
    "\n",
    "# Kebalikan dari lulus nilai\n",
    "print(not lulus_nilai) # not True -> False"
   ]
  },
  {
   "cell_type": "markdown",
   "id": "f6c2d757",
   "metadata": {},
   "source": [
    "### Latihan"
   ]
  },
  {
   "cell_type": "code",
   "execution_count": 15,
   "id": "1975b656",
   "metadata": {},
   "outputs": [
    {
     "name": "stdout",
     "output_type": "stream",
     "text": [
      "Harga satuan:  10000\n",
      "Jumlah terjual:  100\n",
      "Apakah dapat diskon?  True\n"
     ]
    }
   ],
   "source": [
    "harga = 10000\n",
    "jumlah_terjual = int(input(\"Jumlah terjual: \"))\n",
    "\n",
    "apakah_diskon = harga * jumlah_terjual > 500000\n",
    "\n",
    "print(f\"Harga satuan: \", harga)\n",
    "print(f\"Jumlah terjual: \", jumlah_terjual)\n",
    "print(f\"Apakah dapat diskon? \", apakah_diskon)"
   ]
  },
  {
   "cell_type": "markdown",
   "id": "3dddb13a",
   "metadata": {},
   "source": [
    "## Topik 2: Struktur Data Python\n",
    "### 1. List: Kumpulan Data yang Terurut dan Dapat Diubah"
   ]
  },
  {
   "cell_type": "code",
   "execution_count": 7,
   "id": "86d26d86",
   "metadata": {},
   "outputs": [
    {
     "name": "stdout",
     "output_type": "stream",
     "text": [
      "['apel', 'pisang', 'ceri', 'durian']\n",
      "Buah pertama:  apel\n",
      "Buah terakhir:  durian\n",
      "Buah kedua sampai ketiga:  ['pisang', 'ceri']\n"
     ]
    }
   ],
   "source": [
    "# List berisi nama buah-buahan\n",
    "fruits = [\"apel\", \"pisang\", \"ceri\", \"durian\"]\n",
    "print(fruits)\n",
    "\n",
    "# Mengakses elemen berdasarkan indeks (dimulai dari 0)\n",
    "print(\"Buah pertama: \", fruits[0]) # Output: apel\n",
    "print(\"Buah terakhir: \", fruits[-1]) # Output: durian\n",
    "\n",
    "# Slicing: mengambil beberapa elemen sekaligus\n",
    "print(\"Buah kedua sampai ketiga: \", fruits[1:3]) # Output: ['pisang', 'ceri']"
   ]
  },
  {
   "cell_type": "code",
   "execution_count": 9,
   "id": "0b0eb421",
   "metadata": {},
   "outputs": [
    {
     "name": "stdout",
     "output_type": "stream",
     "text": [
      "Setelah diubah:  ['apel', 'mangga', 'ceri', 'durian']\n",
      "Setelah ditambah:  ['apel', 'mangga', 'ceri', 'durian', 'jeruk']\n",
      "Setelah dihapus:  ['apel', 'mangga', 'durian', 'jeruk']\n",
      "Setelah dihapus lagi:  ['mangga', 'durian', 'jeruk']\n"
     ]
    }
   ],
   "source": [
    "# Mengubah elemen\n",
    "fruits[1] = \"mangga\"\n",
    "print(\"Setelah diubah: \", fruits)\n",
    "\n",
    "# Menambah elemen di akhir (append)\n",
    "fruits.append(\"jeruk\")\n",
    "print(\"Setelah ditambah: \", fruits)\n",
    "\n",
    "# Menghapus elemen\n",
    "fruits.remove(\"ceri\")\n",
    "print(\"Setelah dihapus: \", fruits)\n",
    "\n",
    "# Menghapus elemen berdasarkan indeks\n",
    "del fruits[0]\n",
    "print(\"Setelah dihapus lagi: \", fruits)"
   ]
  },
  {
   "cell_type": "markdown",
   "id": "62a0a188",
   "metadata": {},
   "source": [
    "### 2. Tuple: \"List\" yang Tidak Bisa Diubah"
   ]
  },
  {
   "cell_type": "code",
   "execution_count": 10,
   "id": "51ac7e53",
   "metadata": {},
   "outputs": [
    {
     "name": "stdout",
     "output_type": "stream",
     "text": [
      "Koordinat X:  10\n"
     ]
    }
   ],
   "source": [
    "# Tuple untuk menyimpan koordinat\n",
    "koordinat_awal = (10, 20)\n",
    "\n",
    "# Mengakses elemen sama seperti list\n",
    "print(\"Koordinat X: \", koordinat_awal[0])\n",
    "\n",
    "# Mencoba mengubah tuple akan menghasilkan error!\n",
    "# koordinat_awal[0] = 15 # Ini akan menyebabkan TypeError"
   ]
  },
  {
   "cell_type": "markdown",
   "id": "0bcd8a73",
   "metadata": {},
   "source": [
    "### 3. Dictionary: Kumpulan Data dengan \"Label\" (Key-Value)"
   ]
  },
  {
   "cell_type": "code",
   "execution_count": 14,
   "id": "1646b033",
   "metadata": {},
   "outputs": [
    {
     "name": "stdout",
     "output_type": "stream",
     "text": [
      "{'nama': 'Dewi Lestari', 'umur': 29, 'kota': 'Jakarta', 'is member': True}\n",
      "Nama pelanggan:  Dewi Lestari\n",
      "Umur pelanggan:  29\n",
      "Data terbaru:  {'nama': 'Dewi Lestari', 'umur': 29, 'kota': 'Bandung', 'is member': True, 'pekerjaan': 'Data Analyst'}\n",
      "Semua keys:  dict_keys(['nama', 'umur', 'kota', 'is member', 'pekerjaan'])\n",
      "Semua values:  dict_values(['Dewi Lestari', 29, 'Bandung', True, 'Data Analyst'])\n"
     ]
    }
   ],
   "source": [
    "# Dictionary untuk data diri seorang pelanggan\n",
    "customer = {\n",
    "    \"nama\" : \"Dewi Lestari\",\n",
    "    \"umur\" : 29,\n",
    "    \"kota\" : \"Jakarta\",\n",
    "    \"is member\" : True\n",
    "}\n",
    "print(customer)\n",
    "\n",
    "# Mengakses nilai berdasarkan key\n",
    "print(\"Nama pelanggan: \", customer[\"nama\"])\n",
    "print(\"Umur pelanggan: \", customer.get(\"umur\")) # .get() adalah cara aman, tidak error jika key tidak ada\n",
    "\n",
    "# Menambah atau mengubah data\n",
    "customer[\"pekerjaan\"] = \"Data Analyst\" # Menambah pasangan key-value baru\n",
    "customer[\"kota\"] = \"Bandung\" # Mengubah nilai dari key yang suddah ada\n",
    "print(\"Data terbaru: \", customer)\n",
    "\n",
    "# Melihat semua keys dan values\n",
    "print(\"Semua keys: \", customer.keys())\n",
    "print(\"Semua values: \", customer.values())"
   ]
  },
  {
   "cell_type": "markdown",
   "id": "883f1c44",
   "metadata": {},
   "source": [
    "### 4. Set: Kumpulan Data Unik Tanpa Urutan"
   ]
  },
  {
   "cell_type": "code",
   "execution_count": 17,
   "id": "7081ac9b",
   "metadata": {},
   "outputs": [
    {
     "name": "stdout",
     "output_type": "stream",
     "text": [
      "['Jakarta', 'Bandung', 'Surabaya', 'Bandung', 'Jakarta']\n",
      "{'Bandung', 'Jakarta', 'Surabaya'}\n",
      "{'Bandung', 'Semarang', 'Yogyakarta'}\n",
      "Gabungan:  {'Bandung', 'Yogyakarta', 'Semarang', 'Jakarta', 'Surabaya'}\n",
      "Irisan:  {'Bandung'}\n"
     ]
    }
   ],
   "source": [
    "# List kota dengan duplikat\n",
    "list_kota = [\"Jakarta\", \"Bandung\", \"Surabaya\", \"Bandung\", \"Jakarta\"]\n",
    "print(list_kota)\n",
    "\n",
    "# Mengubahnya menjadi set untuk mendapatkan kota unik\n",
    "kota_unik = set(list_kota)\n",
    "print(kota_unik) # Output: {'Surabaya', 'Jakarta', 'Bandung'} (urutan bisa berbeda)\n",
    "\n",
    "# Operasi pada Set\n",
    "kota_lain = {\"Bandung\", \"Yogyakarta\", \"Semarang\"}\n",
    "print(kota_lain)\n",
    "\n",
    "# Gabungan (union)\n",
    "print(\"Gabungan: \", kota_unik.union(kota_lain))\n",
    "\n",
    "# Irisan (intersection)\n",
    "print(\"Irisan: \", kota_unik.intersection(kota_lain))"
   ]
  },
  {
   "cell_type": "markdown",
   "id": "09daf12f",
   "metadata": {},
   "source": [
    "### Latihan"
   ]
  },
  {
   "cell_type": "code",
   "execution_count": 18,
   "id": "6d3ccec7",
   "metadata": {},
   "outputs": [
    {
     "data": {
      "text/plain": [
       "['Apel', 'Bunga', 'Air', 'Kipas']"
      ]
     },
     "execution_count": 18,
     "metadata": {},
     "output_type": "execute_result"
    }
   ],
   "source": [
    "# 1. Buatlah sebuah list bernama keranjang_belanja yang berisi beberapa item produk (string)\n",
    "keranjang_belanja = [\"Apel\", \"Bunga\", \"Air\", \"Kipas\"]\n",
    "keranjang_belanja"
   ]
  },
  {
   "cell_type": "code",
   "execution_count": 20,
   "id": "c2aab7b9",
   "metadata": {},
   "outputs": [
    {
     "data": {
      "text/plain": [
       "{'nama': 'Apel', 'harga': 5000, 'stok': 100}"
      ]
     },
     "execution_count": 20,
     "metadata": {},
     "output_type": "execute_result"
    }
   ],
   "source": [
    "# Buatlah sebuah dictionary bernama data_produk untuk salah satu item di keranjang Anda. Dictionary ini harus memiliki key seperti \"nama\", \"harga\", dan \"stok\"\n",
    "data_produk = {\n",
    "    \"nama\" : \"Apel\",\n",
    "    \"harga\" : 5000,\n",
    "    \"stok\" : 100\n",
    "}\n",
    "\n",
    "# Cetak produk dan harganya dari dictionary yang anda buat.\n",
    "data_produk"
   ]
  },
  {
   "cell_type": "code",
   "execution_count": 21,
   "id": "8f13046b",
   "metadata": {},
   "outputs": [
    {
     "data": {
      "text/plain": [
       "['Apel', 'Bunga', 'Air', 'Kipas', 'HP']"
      ]
     },
     "execution_count": 21,
     "metadata": {},
     "output_type": "execute_result"
    }
   ],
   "source": [
    "# Tambahkan satu item baru ke dalam keranjang_belanja Anda. Cetak isi keranjang setelah ditambahkan.\n",
    "keranjang_belanja.append(\"HP\")\n",
    "keranjang_belanja"
   ]
  },
  {
   "cell_type": "markdown",
   "id": "32a56379",
   "metadata": {},
   "source": [
    "## Topik 3: Alur Kontrol & Perulangan (Logic)\n",
    "### 1. Pernyataan Kondisional (if, elif, else)\n",
    "#### a. if (Jika)"
   ]
  },
  {
   "cell_type": "code",
   "execution_count": 22,
   "id": "2a593f25",
   "metadata": {},
   "outputs": [],
   "source": [
    "nilai = 50\n",
    "\n",
    "# Program akan mengecek: apakah nilai lebih besar atau sama dengan 75?\n",
    "if nilai >= 75:\n",
    "    print(\"Selamat, Anda lulus!\") # Baris ini hanya akan dijalankan jika kondisi True"
   ]
  },
  {
   "cell_type": "markdown",
   "id": "897cd75c",
   "metadata": {},
   "source": [
    "#### b. else (Jika Tidak)"
   ]
  },
  {
   "cell_type": "code",
   "execution_count": 23,
   "id": "3b858dac",
   "metadata": {},
   "outputs": [
    {
     "name": "stdout",
     "output_type": "stream",
     "text": [
      "Maaf, Anda perlu belajar lebih giat lagi.\n"
     ]
    }
   ],
   "source": [
    "nilai = 60\n",
    "\n",
    "if nilai >= 75:\n",
    "    print(\"Selamat, Anda lulus!\")\n",
    "else:\n",
    "    # Baris ini akan dijalankan karena 60 < 75\n",
    "    print(\"Maaf, Anda perlu belajar lebih giat lagi.\")"
   ]
  },
  {
   "cell_type": "markdown",
   "id": "e120f941",
   "metadata": {},
   "source": [
    "#### c. elif (Else If / Jika Kondisi Lain)"
   ]
  },
  {
   "cell_type": "code",
   "execution_count": 24,
   "id": "1fc958d5",
   "metadata": {},
   "outputs": [
    {
     "name": "stdout",
     "output_type": "stream",
     "text": [
      "Predikat: B (Sangat Baik)\n"
     ]
    }
   ],
   "source": [
    "nilai = 88\n",
    "\n",
    "if nilai >= 90:\n",
    "    print(\"Predikat: A (Sempurna)\")\n",
    "elif nilai >= 80:\n",
    "    # Kondisi ini dicek karena 'nilai >= 90' adalah False\n",
    "    # 88 >= 80 adalah True, maka blok ini dieksekusi\n",
    "    print(\"Predikat: B (Sangat Baik)\")\n",
    "elif nilai >= 70:\n",
    "    print(\"Predikat: C (Baik)\")\n",
    "else:\n",
    "    print(\"Predikat: D (Perlu Perbaikan)\")"
   ]
  },
  {
   "cell_type": "markdown",
   "id": "1e0b6c6d",
   "metadata": {},
   "source": [
    "### 2. Perulangan (Looping)\n",
    "#### a. for loop"
   ]
  },
  {
   "cell_type": "code",
   "execution_count": 26,
   "id": "3c14050f",
   "metadata": {},
   "outputs": [
    {
     "name": "stdout",
     "output_type": "stream",
     "text": [
      "Saya suka makan apel\n",
      "Saya suka makan pisang\n",
      "Saya suka makan mangga\n"
     ]
    }
   ],
   "source": [
    "# Iterasi pada List:\n",
    "fruits = [\"apel\", \"pisang\", \"mangga\"]\n",
    "\n",
    "# Untuk setiap 'buah' di dalam list 'fruits', lakukan...\n",
    "for buah in fruits:\n",
    "    print(f\"Saya suka makan {buah}\")"
   ]
  },
  {
   "cell_type": "code",
   "execution_count": 28,
   "id": "5b0e21a9",
   "metadata": {},
   "outputs": [
    {
     "name": "stdout",
     "output_type": "stream",
     "text": [
      "Ini adalah perulangan ke-0\n",
      "Ini adalah perulangan ke-1\n",
      "Ini adalah perulangan ke-2\n",
      "Ini adalah perulangan ke-3\n",
      "Ini adalah perulangan ke-4\n"
     ]
    }
   ],
   "source": [
    "# Menggunakan range()\n",
    "# Ulangi sebanyak 5 kali (dari 0 hingga 4)\n",
    "for i in range(5):\n",
    "    print(f\"Ini adalah perulangan ke-{i}\")"
   ]
  },
  {
   "cell_type": "markdown",
   "id": "5b6b103c",
   "metadata": {},
   "source": [
    "#### b. while loop"
   ]
  },
  {
   "cell_type": "code",
   "execution_count": 29,
   "id": "92803b02",
   "metadata": {},
   "outputs": [
    {
     "name": "stdout",
     "output_type": "stream",
     "text": [
      "Hitung mundur: 5\n",
      "Hitung mundur: 4\n",
      "Hitung mundur: 3\n",
      "Hitung mundur: 2\n",
      "Hitung mundur: 1\n",
      "Selesai!\n"
     ]
    }
   ],
   "source": [
    "angka = 5\n",
    "\n",
    "# Selama 'angka' lebih besar dari 0...\n",
    "while angka > 0:\n",
    "    print(f\"Hitung mundur: {angka}\")\n",
    "    angka = angka - 1 # <-- Bagian ini penting untuk menghentikan loop\n",
    "\n",
    "print(\"Selesai!\")"
   ]
  },
  {
   "cell_type": "markdown",
   "id": "e0d5f7dc",
   "metadata": {},
   "source": [
    "### 3. Mengontrol Perulangan (break dan continue)\n",
    "#### a. break (Hentikan)"
   ]
  },
  {
   "cell_type": "code",
   "execution_count": 30,
   "id": "06331227",
   "metadata": {},
   "outputs": [
    {
     "name": "stdout",
     "output_type": "stream",
     "text": [
      "Mengecek apel...\n",
      "Mengecek pisang...\n",
      "Mengecek ceri...\n",
      "Ceri ditemukan!\n"
     ]
    }
   ],
   "source": [
    "# Cari nama 'ceri' di dalam list\n",
    "fruits = [\"apel\", \"pisang\", \"ceri\", \"durian\"]\n",
    "\n",
    "for buah in fruits:\n",
    "    print(f\"Mengecek {buah}...\")\n",
    "    if buah == \"ceri\":\n",
    "        print(\"Ceri ditemukan!\")\n",
    "        break # Hentikan pencarian, keluar dari loop"
   ]
  },
  {
   "cell_type": "markdown",
   "id": "42ac6aa0",
   "metadata": {},
   "source": [
    "#### continue (Lanjutan ke Berikutnya)"
   ]
  },
  {
   "cell_type": "code",
   "execution_count": 31,
   "id": "cc021da1",
   "metadata": {},
   "outputs": [
    {
     "name": "stdout",
     "output_type": "stream",
     "text": [
      "Angka sekarang adalah 0\n",
      "Angka sekarang adalah 1\n",
      "Angka sekarang adalah 2\n",
      "Angka sekarang adalah 4\n",
      "Angka sekarang adalah 5\n",
      "Angka sekarang adalah 6\n"
     ]
    }
   ],
   "source": [
    "# Cetak semua angka dari 0 sampai 6, kecuali angka 3\n",
    "for i in range(7):\n",
    "    if i == 3:\n",
    "        continue # Jika i adalah 3, lewati sisa kode di bawah dan lanjut ke iterasi berikutnya\n",
    "    print(f\"Angka sekarang adalah {i}\")"
   ]
  },
  {
   "cell_type": "markdown",
   "id": "365bcc55",
   "metadata": {},
   "source": [
    "### Latihan"
   ]
  },
  {
   "cell_type": "code",
   "execution_count": 32,
   "id": "1275fb33",
   "metadata": {},
   "outputs": [
    {
     "data": {
      "text/plain": [
       "[10, -5, 0, 25, -2, 8]"
      ]
     },
     "execution_count": 32,
     "metadata": {},
     "output_type": "execute_result"
    }
   ],
   "source": [
    "# Buatlah sebuah list berisi angka-angka, termasuk angka positif, negatif, dan nol.\n",
    "angka = [10, -5, 0, 25, -2, 8]\n",
    "angka"
   ]
  },
  {
   "cell_type": "code",
   "execution_count": 34,
   "id": "34c291bb",
   "metadata": {},
   "outputs": [
    {
     "name": "stdout",
     "output_type": "stream",
     "text": [
      "Ini adalah 10\n",
      "Ini adalah -5\n",
      "Ini adalah 0\n",
      "Ini adalah 25\n",
      "Ini adalah -2\n",
      "Ini adalah 8\n"
     ]
    }
   ],
   "source": [
    "# Gunakan for loop untuk mengiterasi setiap angka dalam list tersebut.\n",
    "for number in angka:\n",
    "    print(f\"Ini adalah {number}\")"
   ]
  },
  {
   "cell_type": "code",
   "execution_count": 35,
   "id": "ceb44060",
   "metadata": {},
   "outputs": [
    {
     "name": "stdout",
     "output_type": "stream",
     "text": [
      "Ini adalah angka 10\n",
      "Ini adalah angka -5\n",
      "Ini adalah angka nol\n",
      "Ini adalah angka 25\n",
      "Ini adalah angka -2\n",
      "Ini adalah angka 8\n"
     ]
    }
   ],
   "source": [
    "# Di dalam loop, gunakan if-elif-else\n",
    "# Jika angka tersebut adalah 0, cetak \"Ini adalah angka nol.\" dan gunakan continue untuk langsung ke angka berikutnya.\n",
    "for number in angka:\n",
    "    if number == 0:\n",
    "        print(\"Ini adalah angka nol\")\n",
    "        continue\n",
    "    print(f\"Ini adalah angka {number}\")"
   ]
  },
  {
   "cell_type": "code",
   "execution_count": 42,
   "id": "dbf35946",
   "metadata": {},
   "outputs": [
    {
     "name": "stdout",
     "output_type": "stream",
     "text": [
      "10 adalah angka ganjil\n",
      "Angka negatif ditemukan, proses berhenti.\n"
     ]
    }
   ],
   "source": [
    "# Jika angka tersebut positif, cek apakah ia ganjil atau genap, lalu cetak hasilnya (misal: \"10 adalah angka genap\"). Petunjuk: gunakan operator modulo %\n",
    "for number in angka:\n",
    "    if number >= 0:\n",
    "        if number % 1:\n",
    "            print(f\"{number} adalah angka genap.\")\n",
    "        else:\n",
    "            print(f\"{number} adalah angka ganjil\")\n",
    "    else:\n",
    "        print(\"Angka negatif ditemukan, proses berhenti.\")\n",
    "        break"
   ]
  },
  {
   "cell_type": "markdown",
   "id": "d2129edc",
   "metadata": {},
   "source": [
    "### Perbaikan"
   ]
  },
  {
   "cell_type": "code",
   "execution_count": 43,
   "id": "b7339572",
   "metadata": {},
   "outputs": [
    {
     "name": "stdout",
     "output_type": "stream",
     "text": [
      "Mulai pengecekan angka...\n",
      "10 adalah angka genap.\n",
      "Angka negatif ditemukan, proses berhenti.\n",
      "...Pengecekan selesai.\n"
     ]
    }
   ],
   "source": [
    "# 1. Buat list angka\n",
    "angka = [10, -5, 0, 25, -2, 8]\n",
    "\n",
    "# 2. Gunakan SATU for loop untuk mengiterasi\n",
    "print(\"Mulai pengecekan angka...\")\n",
    "\n",
    "for num in angka:\n",
    "    # 3. Gunakan if-elif-else di dalam loop\n",
    "    \n",
    "    if num == 0:\n",
    "        # Jika angka adalah 0, cetak dan lanjut ke iterasi berikutnya\n",
    "        print(\"Ini adalah angka nol.\")\n",
    "        continue\n",
    "        \n",
    "    elif num > 0:\n",
    "        # Jika angka positif, cek ganjil/genap\n",
    "        if num % 2 == 0:\n",
    "            print(f\"{num} adalah angka genap.\")\n",
    "        else:\n",
    "            print(f\"{num} adalah angka ganjil.\")\n",
    "            \n",
    "    else: # Ini berarti num < 0\n",
    "        # Jika angka negatif, cetak dan hentikan loop\n",
    "        print(\"Angka negatif ditemukan, proses berhenti.\")\n",
    "        break\n",
    "\n",
    "print(\"...Pengecekan selesai.\")"
   ]
  },
  {
   "cell_type": "markdown",
   "id": "38bf7c68",
   "metadata": {},
   "source": [
    "## Topik 4: Fungsi & Modul (Functions & Modules)\n",
    "### 1. Fungsi (Functions): Membuat Blok Kode yang Dapat Digunakan Kembali\n",
    "#### a. Mendefinisikan dan Memanggil Fungsi"
   ]
  },
  {
   "cell_type": "code",
   "execution_count": 2,
   "id": "3cf2119a",
   "metadata": {},
   "outputs": [
    {
     "name": "stdout",
     "output_type": "stream",
     "text": [
      "Halo, dunia! Selamat belajar Python.\n",
      "Ini adalah fungsi pertama saya.\n",
      "Halo, dunia! Selamat belajar Python.\n",
      "Ini adalah fungsi pertama saya.\n"
     ]
    }
   ],
   "source": [
    "# Mendefinisikan sebuah fungsi sederhana\n",
    "def sapa_dunia():\n",
    "    print(\"Halo, dunia! Selamat belajar Python.\")\n",
    "    print(\"Ini adalah fungsi pertama saya.\")\n",
    "\n",
    "# Memanggil (menjalankan fungsi yang sudah kita buat)\n",
    "sapa_dunia()\n",
    "sapa_dunia()"
   ]
  },
  {
   "cell_type": "markdown",
   "id": "481aa7aa",
   "metadata": {},
   "source": [
    "#### b. Parameter dan Argumen (Memberikan Input)"
   ]
  },
  {
   "cell_type": "code",
   "execution_count": 3,
   "id": "451d6961",
   "metadata": {},
   "outputs": [
    {
     "name": "stdout",
     "output_type": "stream",
     "text": [
      "Halo, Andi! Selamat datang.\n",
      "Halo, Citra! Selamat datang.\n"
     ]
    }
   ],
   "source": [
    "# 'nama' adalah sebuah parameter\n",
    "def sapa_pengguna(nama):\n",
    "    print(f\"Halo, {nama}! Selamat datang.\")\n",
    "\n",
    "# \"Andi\" dan \"Citra\" adalah argumen\n",
    "sapa_pengguna(\"Andi\")\n",
    "sapa_pengguna(\"Citra\")"
   ]
  },
  {
   "cell_type": "markdown",
   "id": "062f2672",
   "metadata": {},
   "source": [
    "#### c. Pernyataan return (Mendapatkan Output)"
   ]
  },
  {
   "cell_type": "code",
   "execution_count": 4,
   "id": "d49d8352",
   "metadata": {},
   "outputs": [
    {
     "name": "stdout",
     "output_type": "stream",
     "text": [
      "Luas ruangan adalah: 50 m2\n",
      "Total biaya pemasangan keramik: Rp 2500000\n"
     ]
    }
   ],
   "source": [
    "# Fungsi ini akan mengembalikan hasil perhitungan\n",
    "def hitung_luas_persegi_panjang(panjang, lebar):\n",
    "    luas = panjang * lebar\n",
    "    return luas\n",
    "\n",
    "# Memanggil fungsi dan menyimpan hasilnya ke dalam variabel\n",
    "luas_ruangan = hitung_luas_persegi_panjang(10, 5)\n",
    "harga_per_meter = 50000\n",
    "total_biaya = luas_ruangan * harga_per_meter\n",
    "\n",
    "print(f\"Luas ruangan adalah: {luas_ruangan} m2\")\n",
    "print(f\"Total biaya pemasangan keramik: Rp {total_biaya}\")"
   ]
  },
  {
   "cell_type": "markdown",
   "id": "d66586e6",
   "metadata": {},
   "source": [
    "### 2. Lambda Functions: Fungsi Cepat Satu Baris"
   ]
  },
  {
   "cell_type": "code",
   "execution_count": 5,
   "id": "96b7676b",
   "metadata": {},
   "outputs": [
    {
     "name": "stdout",
     "output_type": "stream",
     "text": [
      "15\n",
      "15\n"
     ]
    }
   ],
   "source": [
    "# Fungsi biasa\n",
    "def tambah_sepuluh(x):\n",
    "    return x + 10\n",
    "\n",
    "# Versi Lambda\n",
    "tambah_sepuluh_lambda = lambda x: x + 10\n",
    "\n",
    "print(tambah_sepuluh(5)) # Output: 15\n",
    "print(tambah_sepuluh_lambda(5)) # Output: 15"
   ]
  },
  {
   "cell_type": "markdown",
   "id": "685dfac1",
   "metadata": {},
   "source": [
    "### 3. Modul (Modules): Menggunakan Kode Orang Lain\n",
    "#### a. Cara Mengimpor Modul"
   ]
  },
  {
   "cell_type": "code",
   "execution_count": 7,
   "id": "887053a5",
   "metadata": {},
   "outputs": [
    {
     "name": "stdout",
     "output_type": "stream",
     "text": [
      "Akar kuadrat dari 25 adalah 5.0\n",
      "Nilai pi adalah: 3.141592653589793\n"
     ]
    }
   ],
   "source": [
    "# Mengimpor modul 'math' yang berisi banyak fungsi matematika\n",
    "import math\n",
    "\n",
    "# Menggunakan fungsi sqrt() dari modul math untuk menghitung akar kuadrat\n",
    "angka = 25\n",
    "akar_kuadrat = math.sqrt(angka)\n",
    "print(f\"Akar kuadrat dari {angka} adalah {akar_kuadrat}\")\n",
    "\n",
    "# Menggunakan konstanta pi dari modul math\n",
    "print(f\"Nilai pi adalah: {math.pi}\")"
   ]
  },
  {
   "cell_type": "markdown",
   "id": "1439da98",
   "metadata": {},
   "source": [
    "### b. Cara Impor Lainnya"
   ]
  },
  {
   "cell_type": "code",
   "execution_count": 8,
   "id": "1e78951d",
   "metadata": {},
   "outputs": [
    {
     "name": "stdout",
     "output_type": "stream",
     "text": [
      "6.0\n",
      "3.141592653589793\n",
      "7.0\n"
     ]
    }
   ],
   "source": [
    "# 1. Mengimpor fungsi spesifik\n",
    "from math import sqrt, pi\n",
    "# Sekarang kita bisa memanggil fungsinya secara langsung\n",
    "print(sqrt(36))\n",
    "print(pi)\n",
    "\n",
    "# 2. Menggunakan alias (nama lain) untuk mempersingkat\n",
    "import math as m\n",
    "# Ini sangat umum dilakukan di analisis data (contoh: import pandas as pd)\n",
    "print(m.sqrt(49))"
   ]
  },
  {
   "cell_type": "markdown",
   "id": "a7fe8a71",
   "metadata": {},
   "source": [
    "### Latihan:\n",
    "\n",
    "1. Buat sebuah fungsi bernama hitung_harga_akhir.\n",
    "\n",
    "2. Fungsi ini harus menerima dua parameter: harga_awal dan persen_diskon (misal, 20 untuk 20%).\n",
    "\n",
    "3. Di dalam fungsi, hitung besar diskon dalam rupiah, lalu hitung harga akhir setelah diskon.\n",
    "\n",
    "4. Fungsi harus return (mengembalikan) nilai harga_akhir.\n",
    "\n",
    "5. Panggil fungsi Anda dengan harga Rp 150,000 dan diskon 30%. Simpan hasilnya di sebuah variabel, lalu cetak hasilnya dengan format yang rapi."
   ]
  },
  {
   "cell_type": "code",
   "execution_count": 14,
   "id": "5bec611a",
   "metadata": {},
   "outputs": [
    {
     "name": "stdout",
     "output_type": "stream",
     "text": [
      "Harga awal: Rp 150000\n",
      "Persen diskon: 0.3\n",
      "Uang yang harus dibayarkan adalah: 105000.0\n"
     ]
    }
   ],
   "source": [
    "# Buat sebuah fungsi bernama hitung_harga_akhir\n",
    "def hitung_harga_akhir(harga_awal, persen_diskon): # Fungsi ini harus menerima dua parameter: harga_awal dan persen_diskon (misal, 20 untuk 20%)\n",
    "    # Di dalam fungsi, hitung besar diskon dalam rupiah, lalu hitung harga akhir setelah diskon\n",
    "    diskon = harga_awal * persen_diskon\n",
    "    harga_akhir = harga_awal - diskon\n",
    "    # Fungsi harus return (mengembalikan) nilai harga_akhir\n",
    "    return harga_akhir\n",
    "\n",
    "# Panggil fungsi Anda dengan harga Rp 150000 dan diskon 30%. Simpan hasilnya di sebuah variabel, lalu cetak hasilnya dengan format yang rapi\n",
    "harga_setelah_diskon = hitung_harga_akhir(150000, 0.3)\n",
    "\n",
    "print(f\"Harga awal: Rp {harga_awal}\")\n",
    "print(f\"Persen diskon: {persen_diskon}\")\n",
    "print(f\"Uang yang harus dibayarkan adalah: {harga_setelah_diskon}\")"
   ]
  },
  {
   "cell_type": "code",
   "execution_count": null,
   "id": "7261b42f",
   "metadata": {},
   "outputs": [],
   "source": []
  }
 ],
 "metadata": {
  "kernelspec": {
   "display_name": "base",
   "language": "python",
   "name": "python3"
  },
  "language_info": {
   "codemirror_mode": {
    "name": "ipython",
    "version": 3
   },
   "file_extension": ".py",
   "mimetype": "text/x-python",
   "name": "python",
   "nbconvert_exporter": "python",
   "pygments_lexer": "ipython3",
   "version": "3.13.5"
  }
 },
 "nbformat": 4,
 "nbformat_minor": 5
}
